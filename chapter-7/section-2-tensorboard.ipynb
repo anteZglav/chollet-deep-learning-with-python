{
 "cells": [
  {
   "cell_type": "markdown",
   "metadata": {},
   "source": [
    "# Tensorboard"
   ]
  },
  {
   "cell_type": "code",
   "execution_count": 7,
   "metadata": {},
   "outputs": [
    {
     "name": "stdout",
     "output_type": "stream",
     "text": [
      "Model: \"sequential_1\"\n",
      "_________________________________________________________________\n",
      "Layer (type)                 Output Shape              Param #   \n",
      "=================================================================\n",
      "embed (Embedding)            (None, 500, 128)          256000    \n",
      "_________________________________________________________________\n",
      "conv1d_1 (Conv1D)            (None, 494, 32)           28704     \n",
      "_________________________________________________________________\n",
      "max_pooling1d_1 (MaxPooling1 (None, 98, 32)            0         \n",
      "_________________________________________________________________\n",
      "conv1d_2 (Conv1D)            (None, 92, 32)            7200      \n",
      "_________________________________________________________________\n",
      "global_max_pooling1d_1 (Glob (None, 32)                0         \n",
      "_________________________________________________________________\n",
      "dense_1 (Dense)              (None, 1)                 33        \n",
      "=================================================================\n",
      "Total params: 291,937\n",
      "Trainable params: 291,937\n",
      "Non-trainable params: 0\n",
      "_________________________________________________________________\n"
     ]
    }
   ],
   "source": [
    "import keras\n",
    "from keras import layers\n",
    "from keras.datasets import imdb\n",
    "from keras.preprocessing import sequence\n",
    "\n",
    "max_features = 2000\n",
    "max_len = 500\n",
    "\n",
    "(x_train, y_train), (x_test, y_test) = imdb.load_data(num_words=max_features)\n",
    "x_train = sequence.pad_sequences(x_train, maxlen=max_len)\n",
    "x_test = sequence.pad_sequences(x_test, maxlen=max_len)\n",
    "\n",
    "model = keras.models.Sequential()\n",
    "model.add(layers.Embedding(max_features, 128,\n",
    "                           input_length=max_len, name='embed'))\n",
    "model.add(layers.Conv1D(32, 7, activation='relu'))\n",
    "model.add(layers.MaxPool1D(5))\n",
    "model.add(layers.Conv1D(32, 7, activation='relu'))\n",
    "model.add(layers.GlobalMaxPooling1D())\n",
    "model.add(layers.Dense(1))\n",
    "model.summary()\n",
    "model.compile(optimizer='rmsprop', \n",
    "              loss='binary_crossentropy',\n",
    "              metrics=['acc'])"
   ]
  },
  {
   "cell_type": "code",
   "execution_count": 8,
   "metadata": {},
   "outputs": [],
   "source": [
    "# !mkdir my_log_dir"
   ]
  },
  {
   "cell_type": "code",
   "execution_count": 10,
   "metadata": {},
   "outputs": [
    {
     "name": "stderr",
     "output_type": "stream",
     "text": [
      "/Users/antezglav/.virtualenvs/chollet-deep-learning-with-python/lib/python3.7/site-packages/keras/callbacks/tensorboard_v2.py:102: UserWarning: The TensorBoard callback does not support embeddings display when using TensorFlow 2.0. Embeddings-related arguments are ignored.\n",
      "  warnings.warn('The TensorBoard callback does not support '\n"
     ]
    },
    {
     "name": "stdout",
     "output_type": "stream",
     "text": [
      "Train on 20000 samples, validate on 5000 samples\n",
      "Epoch 1/20\n",
      "20000/20000 [==============================] - 32s 2ms/step - loss: 0.0981 - acc: 0.1530 - val_loss: 1.1756 - val_acc: 0.2278\n",
      "Epoch 2/20\n",
      "20000/20000 [==============================] - 35s 2ms/step - loss: 0.0945 - acc: 0.1394 - val_loss: 1.2099 - val_acc: 0.2030\n",
      "Epoch 3/20\n",
      "20000/20000 [==============================] - 34s 2ms/step - loss: 0.0932 - acc: 0.1209 - val_loss: 1.2437 - val_acc: 0.2004\n",
      "Epoch 4/20\n",
      "20000/20000 [==============================] - 35s 2ms/step - loss: 0.0957 - acc: 0.1102 - val_loss: 1.3784 - val_acc: 0.1990\n",
      "Epoch 5/20\n",
      "20000/20000 [==============================] - 38s 2ms/step - loss: 0.0978 - acc: 0.1005 - val_loss: 1.2393 - val_acc: 0.1902\n",
      "Epoch 6/20\n",
      "20000/20000 [==============================] - 35s 2ms/step - loss: 0.0939 - acc: 0.0936 - val_loss: 1.2937 - val_acc: 0.1798\n",
      "Epoch 7/20\n",
      "20000/20000 [==============================] - 36s 2ms/step - loss: 0.0940 - acc: 0.0922 - val_loss: 1.3856 - val_acc: 0.1754\n",
      "Epoch 8/20\n",
      "20000/20000 [==============================] - 35s 2ms/step - loss: 0.0931 - acc: 0.0868 - val_loss: 1.3316 - val_acc: 0.1744\n",
      "Epoch 9/20\n",
      "20000/20000 [==============================] - 36s 2ms/step - loss: 0.0940 - acc: 0.0820 - val_loss: 1.3166 - val_acc: 0.1650\n",
      "Epoch 10/20\n",
      "20000/20000 [==============================] - 36s 2ms/step - loss: 0.0921 - acc: 0.0673 - val_loss: 1.4136 - val_acc: 0.1560\n",
      "Epoch 11/20\n",
      "20000/20000 [==============================] - 36s 2ms/step - loss: 0.0924 - acc: 0.0636 - val_loss: 1.7179 - val_acc: 0.1530\n",
      "Epoch 12/20\n",
      "20000/20000 [==============================] - 32s 2ms/step - loss: 0.0971 - acc: 0.0580 - val_loss: 1.4371 - val_acc: 0.1452\n",
      "Epoch 13/20\n",
      "20000/20000 [==============================] - 31s 2ms/step - loss: 0.0919 - acc: 0.0589 - val_loss: 1.3727 - val_acc: 0.1510\n",
      "Epoch 14/20\n",
      "20000/20000 [==============================] - 35s 2ms/step - loss: 0.0909 - acc: 0.0539 - val_loss: 1.4907 - val_acc: 0.1400\n",
      "Epoch 15/20\n",
      "20000/20000 [==============================] - 34s 2ms/step - loss: 0.0963 - acc: 0.0501 - val_loss: 1.6836 - val_acc: 0.1454\n",
      "Epoch 16/20\n",
      "20000/20000 [==============================] - 32s 2ms/step - loss: 0.0938 - acc: 0.0472 - val_loss: 1.4833 - val_acc: 0.1324\n",
      "Epoch 17/20\n",
      "20000/20000 [==============================] - 32s 2ms/step - loss: 0.0939 - acc: 0.0391 - val_loss: 1.4432 - val_acc: 0.1406\n",
      "Epoch 18/20\n",
      "20000/20000 [==============================] - 32s 2ms/step - loss: 0.0963 - acc: 0.0382 - val_loss: 1.4892 - val_acc: 0.1282\n",
      "Epoch 19/20\n",
      "20000/20000 [==============================] - 32s 2ms/step - loss: 0.0921 - acc: 0.0410 - val_loss: 1.5068 - val_acc: 0.1326\n",
      "Epoch 20/20\n",
      "20000/20000 [==============================] - 32s 2ms/step - loss: 0.0927 - acc: 0.0369 - val_loss: 1.5215 - val_acc: 0.1292\n"
     ]
    }
   ],
   "source": [
    "callbacks = [\n",
    "                keras.callbacks.TensorBoard(\n",
    "                    log_dir='my_log_dir',\n",
    "                    histogram_freq=1,\n",
    "                    embeddings_freq=1,\n",
    "                )\n",
    "            ]\n",
    "history = model.fit(x_train, y_train,\n",
    "                   epochs=20,\n",
    "                   batch_size=128,\n",
    "                   validation_split=0.2,\n",
    "                   callbacks=callbacks)"
   ]
  }
 ],
 "metadata": {
  "kernelspec": {
   "display_name": "Python 3",
   "language": "python",
   "name": "python3"
  },
  "language_info": {
   "codemirror_mode": {
    "name": "ipython",
    "version": 3
   },
   "file_extension": ".py",
   "mimetype": "text/x-python",
   "name": "python",
   "nbconvert_exporter": "python",
   "pygments_lexer": "ipython3",
   "version": "3.7.4"
  }
 },
 "nbformat": 4,
 "nbformat_minor": 4
}
