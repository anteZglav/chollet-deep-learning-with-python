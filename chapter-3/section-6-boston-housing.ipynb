{
 "cells": [
  {
   "cell_type": "markdown",
   "metadata": {},
   "source": [
    "# 3.6.1"
   ]
  },
  {
   "cell_type": "code",
   "execution_count": 1,
   "metadata": {},
   "outputs": [
    {
     "name": "stderr",
     "output_type": "stream",
     "text": [
      "Using TensorFlow backend.\n"
     ]
    },
    {
     "name": "stdout",
     "output_type": "stream",
     "text": [
      "Train data is of shape:(404, 13)\n",
      "Test data is of shape:(102, 13)\n",
      "Targets are median values of homes in thousands of dollars:\n",
      "[15.2 42.3 50.  21.1 17.7 18.5 11.3 15.6 15.6 14.4] * 1000$\n",
      "\n",
      "Train data mean:\n",
      "[3.74511057e+00 1.14801980e+01 1.11044307e+01 6.18811881e-02\n",
      " 5.57355941e-01 6.26708168e+00 6.90106436e+01 3.74027079e+00\n",
      " 9.44059406e+00 4.05898515e+02 1.84759901e+01 3.54783168e+02\n",
      " 1.27408168e+01]\n",
      "Train data standard deviation:\n",
      "[9.22929073e+00 2.37382770e+01 6.80287253e+00 2.40939633e-01\n",
      " 1.17147847e-01 7.08908627e-01 2.79060634e+01 2.02770050e+00\n",
      " 8.68758849e+00 1.66168506e+02 2.19765689e+00 9.39946015e+01\n",
      " 7.24556085e+00]\n",
      "Normalized test data mean:\n",
      "[-0.0707286  -0.02435885  0.02358875  0.1500709  -0.11267862  0.12282991\n",
      " -0.07746073  0.13399985  0.0621344   0.06981759 -0.04617659  0.09979472\n",
      " -0.06008184]\n",
      "Normalized test data standard deviation:\n",
      "[0.57931694 0.90431666 1.03622933 1.23419987 0.93449418 0.94374857\n",
      " 1.03534182 1.16796212 1.00476841 1.06228778 0.91771633 0.83780808\n",
      " 0.91952837]\n"
     ]
    }
   ],
   "source": [
    "from keras.datasets import boston_housing\n",
    "\n",
    "(train_data, train_targets), (test_data, test_targets) = boston_housing.load_data()\n",
    "print(f\"Train data is of shape:{train_data.shape}\\nTest data is of shape:{test_data.shape}\")\n",
    "print(f\"Targets are median values of homes in thousands of dollars:\\n{train_targets[0:10]} * 1000$\\n\")\n",
    "\n",
    "# First we normalize the data.\n",
    "mean = train_data.mean(axis=0)\n",
    "train_data -= mean\n",
    "std = train_data.std(axis=0)\n",
    "train_data /= std\n",
    "\n",
    "test_data -= mean\n",
    "test_data /= std\n",
    "print(f\"Train data mean:\\n{mean}\\nTrain data standard deviation:\\n{std}\")\n",
    "print(f\"Normalized test data mean:\\n{test_data.mean(axis=0)}\\n\"\n",
    "      f\"Normalized test data standard deviation:\\n{test_data.std(axis=0)}\")"
   ]
  },
  {
   "cell_type": "markdown",
   "metadata": {},
   "source": [
    "We can see that even though the mean and standard deviation is not a perfect fit for test data it gets it on the same order of magnitude at least.\n",
    "\n",
    "Next we define a function to build the model."
   ]
  },
  {
   "cell_type": "code",
   "execution_count": 28,
   "metadata": {},
   "outputs": [],
   "source": [
    "# Using a 2x64 neuron network.\n",
    "from keras import models\n",
    "from keras import layers\n",
    "def build_model():\n",
    "    model = models.Sequential()\n",
    "    model.add(layers.Dense(64, activation='relu', input_shape=(train_data.shape[1],)))\n",
    "    model.add(layers.Dense(64, activation='relu'))\n",
    "    model.add(layers.Dense(1))     # No activation makes a linear layer.\n",
    "    model.compile(optimizer='rmsprop',\n",
    "                  loss='mse',\n",
    "                  metrics=['mae'])\n",
    "    return model"
   ]
  },
  {
   "cell_type": "markdown",
   "metadata": {},
   "source": [
    "Since the dataset is so small we use K-fold split. Essentialy we partition the data into K partitions train K identical models and train on K-1 partitions and evaluate on the last one. The final validation score is the average of all the scores. "
   ]
  },
  {
   "cell_type": "code",
   "execution_count": 29,
   "metadata": {},
   "outputs": [
    {
     "name": "stdout",
     "output_type": "stream",
     "text": [
      "Processing fold 0 .\n",
      "Processing fold 1 .\n",
      "Processing fold 2 .\n",
      "Processing fold 3 .\n",
      "Average mae : 2.37 * 1000 $\n"
     ]
    }
   ],
   "source": [
    "import numpy as np\n",
    "k = 4\n",
    "num_val_samples = len(train_data) // k # // does floor division. Extra samples from the end are discarded.\n",
    "num_epochs = 80\n",
    "all_mae_histories = []\n",
    "\n",
    "# Perform K-fold split of the data.\n",
    "for i in range(k):\n",
    "    print(f\"Processing fold {i} .\")\n",
    "    # Take i-th partiton as validation data.\n",
    "    val_data    = train_data[i * num_val_samples: (i + 1) * num_val_samples]\n",
    "    val_targets = train_targets[i * num_val_samples: (i + 1) * num_val_samples]\n",
    "    # Take the rest as train data.\n",
    "    partial_train_data = np.concatenate([train_data[:i * num_val_samples],\n",
    "                                         train_data[(i + 1) * num_val_samples:]],\n",
    "                                        axis=0)\n",
    "    partial_train_targets = np.concatenate([train_targets[:i * num_val_samples],\n",
    "                                            train_targets[(i + 1) * num_val_samples:]],\n",
    "                                           axis=0)\n",
    "    # Build the model and fit it.\n",
    "    model = build_model()\n",
    "    history = model.fit(partial_train_data, partial_train_targets,\n",
    "                        validation_data=(val_data, val_targets),\n",
    "                        epochs=num_epochs,\n",
    "                        batch_size=16,\n",
    "                        verbose=0)\n",
    "    # Save validation results.\n",
    "    mae_history = history.history[\"val_mean_absolute_error\"]\n",
    "    all_mae_histories.append(mae_history)\n",
    "\n",
    "average_mae_history = [np.mean([x[i] for x in all_mae_histories]) for i in range(num_epochs)]\n",
    "# Print final mean absolute error.\n",
    "print(f\"Average mae : {average_mae_history[-1]:.2f} * 1000 $\")"
   ]
  },
  {
   "cell_type": "code",
   "execution_count": 23,
   "metadata": {},
   "outputs": [
    {
     "data": {
      "image/png": "[encoded data removed]",
      "text/plain": [
       "<Figure size 432x288 with 1 Axes>"
      ]
     },
     "metadata": {
      "needs_background": "light"
     },
     "output_type": "display_data"
    }
   ],
   "source": [
    "# Normal plotting.\n",
    "import matplotlib.pyplot as plt\n",
    "plt.plot(range(1, len(average_mae_history) + 1), average_mae_history)\n",
    "plt.xlabel(\"Epochs\")\n",
    "plt.ylabel(\"Validation MAE\")\n",
    "plt.show()"
   ]
  },
  {
   "cell_type": "code",
   "execution_count": 22,
   "metadata": {},
   "outputs": [
    {
     "data": {
      "image/png": "[encoded data removed]",
      "text/plain": [
       "<Figure size 432x288 with 1 Axes>"
      ]
     },
     "metadata": {
      "needs_background": "light"
     },
     "output_type": "display_data"
    }
   ],
   "source": [
    "# Plot a smoth graph: apply a exponential moving average to the data.\n",
    "def smooth_curve(points, factor=0.9):\n",
    "    smoothed_points = []\n",
    "    for point in points:\n",
    "        if smoothed_points:\n",
    "            previous = smoothed_points[-1]\n",
    "            smoothed_points.append(previous * factor + point * (1 - factor))\n",
    "        else:\n",
    "            smoothed_points.append(point)\n",
    "    return smoothed_points\n",
    "\n",
    "# Ommit first 10 Epochs.\n",
    "smooth_mae_history = smooth_curve(average_mae_history[10:])\n",
    "plt.plot(range(10, len(smooth_mae_history)+ 10), smooth_mae_history)\n",
    "plt.xlabel(\"Epochs\")\n",
    "plt.ylabel(\"Validation MAE\")\n",
    "plt.show()"
   ]
  },
  {
   "cell_type": "markdown",
   "metadata": {},
   "source": [
    "# Train final model"
   ]
  },
  {
   "cell_type": "code",
   "execution_count": 30,
   "metadata": {},
   "outputs": [
    {
     "name": "stdout",
     "output_type": "stream",
     "text": [
      "102/102 [==============================] - 0s 4ms/step\n",
      "Model mae score for test data: 2.44 * 1000$\n"
     ]
    }
   ],
   "source": [
    "model = build_model()\n",
    "model.fit(train_data, train_targets,\n",
    "          epochs=80,\n",
    "          batch_size=8,\n",
    "          verbose=0)\n",
    "(test_mse_score, test_mae_score) = model.evaluate(test_data,test_targets)\n",
    "print(f\"Model mae score for test data: {test_mae_score:.2f} * 1000$\")"
   ]
  },
  {
   "cell_type": "markdown",
   "metadata": {},
   "source": [
    "## Tuning log\n",
    "- STEP 1: 2 X 64 Dense, 500 epochs, mae: 2.69, overfitting after 80 epochs.\n",
    "- STEP 2: 2 X 64 Dense, 80 epochs,  mae: 2.56\n",
    "- STEP 3: 2 X 32 Dense, 80 epochs, batch size 1, mae: 2.52\n",
    "- STEP 4: 2 X 32 Dense, 80 epochs, batch size 8,  mae: 2.33\n",
    "- STEP 4: 2 X 32 Dense, 80 epochs, batch size 16,  mae: 2.48\n",
    "- STEP 4: 2 X 128 Dense, 80 epochs, batch size 16,  mae: 2.35\n"
   ]
  }
 ],
 "metadata": {
  "kernelspec": {
   "display_name": "Python 3",
   "language": "python",
   "name": "python3"
  },
  "language_info": {
   "codemirror_mode": {
    "name": "ipython",
    "version": 3
   },
   "file_extension": ".py",
   "mimetype": "text/x-python",
   "name": "python",
   "nbconvert_exporter": "python",
   "pygments_lexer": "ipython3",
   "version": "3.6.8"
  }
 },
 "nbformat": 4,
 "nbformat_minor": 2
}
