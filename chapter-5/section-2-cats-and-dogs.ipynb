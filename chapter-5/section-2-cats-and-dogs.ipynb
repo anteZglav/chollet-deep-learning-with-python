{
 "cells": [
  {
   "cell_type": "markdown",
   "metadata": {},
   "source": [
    "# Section 5.2\n",
    "## Handle the dataset\n",
    "Data is stored in project root directory under datsets and a small subset is copied to chapter directory/datasets. It is split into 1000, 500, 500 train validate and test samples each in its own folder.\n",
    "\n",
    "NOTE: add commands that will use kagggle api to pull data."
   ]
  },
  {
   "cell_type": "code",
   "execution_count": 1,
   "metadata": {},
   "outputs": [
    {
     "name": "stdout",
     "output_type": "stream",
     "text": [
      "Directory:\"./datasets/cats_and_dogs_small\" already exists, continuing.\n",
      "Directory:\"./datasets/cats_and_dogs_small\\train\" already exists, continuing.\n",
      "Directory:\"./datasets/cats_and_dogs_small\\validation\" already exists, continuing.\n",
      "Directory:\"./datasets/cats_and_dogs_small\\test\" already exists, continuing.\n",
      "Directory:\"./datasets/cats_and_dogs_small\\train\\cats\" already exists, continuing.\n",
      "Directory:\"./datasets/cats_and_dogs_small\\train\\dogs\" already exists, continuing.\n",
      "Directory:\"./datasets/cats_and_dogs_small\\validation\\cats\" already exists, continuing.\n",
      "Directory:\"./datasets/cats_and_dogs_small\\validation\\dogs\" already exists, continuing.\n",
      "Directory:\"./datasets/cats_and_dogs_small\\test\\cats\" already exists, continuing.\n",
      "Directory:\"./datasets/cats_and_dogs_small\\test\\dogs\" already exists, continuing.\n"
     ]
    }
   ],
   "source": [
    "import os, shutil\n",
    "\n",
    "def create_dir_if_not_existing(dir_name):\n",
    "    # This function cretes a directory if it does not exist otherwise it prints that it exists and continues.\n",
    "    try:\n",
    "        os.mkdir(dir_name) \n",
    "    except FileExistsError:\n",
    "        print(f'Directory:\"{dir_name}\" already exists, continuing.')\n",
    "    \n",
    "original_dataset_dir = '../datasets/dogs-vs-cats/train'\n",
    "# Create directories.\n",
    "base_dir = './datasets/cats_and_dogs_small'\n",
    "create_dir_if_not_existing(base_dir)\n",
    "\n",
    "train_dir = os.path.join(base_dir, 'train') \n",
    "create_dir_if_not_existing(train_dir)\n",
    "\n",
    "validation_dir = os.path.join(base_dir, 'validation') \n",
    "create_dir_if_not_existing(validation_dir)\n",
    "\n",
    "test_dir = os.path.join(base_dir, 'test') \n",
    "create_dir_if_not_existing(test_dir)\n",
    "\n",
    "train_cats_dir = os.path.join(train_dir, 'cats') \n",
    "create_dir_if_not_existing(train_cats_dir)\n",
    "\n",
    "train_dogs_dir = os.path.join(train_dir, 'dogs') \n",
    "create_dir_if_not_existing(train_dogs_dir)\n",
    "\n",
    "validation_cats_dir = os.path.join(validation_dir, 'cats') \n",
    "create_dir_if_not_existing(validation_cats_dir)\n",
    "\n",
    "validation_dogs_dir = os.path.join(validation_dir, 'dogs') \n",
    "create_dir_if_not_existing(validation_dogs_dir)\n",
    "\n",
    "test_cats_dir = os.path.join(test_dir, 'cats') \n",
    "create_dir_if_not_existing(test_cats_dir)\n",
    "\n",
    "test_dogs_dir = os.path.join(test_dir, 'dogs') \n",
    "create_dir_if_not_existing(test_dogs_dir)\n",
    "\n",
    "# Split [train valdiate test] as [1000].\n",
    "def copy_datset(fnames,src_dir,dst_dir):\n",
    "    for fname in fnames:\n",
    "        src = os.path.join(src_dir, fname)\n",
    "        dst = os.path.join(dst_dir, fname)\n",
    "        shutil.copyfile(src,dst)\n",
    "       "
   ]
  },
  {
   "cell_type": "code",
   "execution_count": 13,
   "metadata": {},
   "outputs": [
    {
     "name": "stdout",
     "output_type": "stream",
     "text": [
      "Directory:\"./datasets/cats_and_dogs_small\" already exists, continuing.\n",
      "Directory:\"./datasets/cats_and_dogs_small\\train\" already exists, continuing.\n",
      "Directory:\"./datasets/cats_and_dogs_small\\validation\" already exists, continuing.\n",
      "Directory:\"./datasets/cats_and_dogs_small\\test\" already exists, continuing.\n",
      "Directory:\"./datasets/cats_and_dogs_small\\train\\cats\" already exists, continuing.\n",
      "Directory:\"./datasets/cats_and_dogs_small\\train\\dogs\" already exists, continuing.\n",
      "Directory:\"./datasets/cats_and_dogs_small\\validation\\cats\" already exists, continuing.\n",
      "Directory:\"./datasets/cats_and_dogs_small\\validation\\dogs\" already exists, continuing.\n",
      "Directory:\"./datasets/cats_and_dogs_small\\test\\cats\" already exists, continuing.\n",
      "Directory:\"./datasets/cats_and_dogs_small\\test\\dogs\" already exists, continuing.\n"
     ]
    }
   ],
   "source": [
    "# Copy dataset to target directories.\n",
    "# THIS SHOULD BE DONE ONCE!.\n",
    "# copy_datset([f'cat.{i}.jpg' for i in range(1000)], original_dataset_dir, train_cats_dir)\n",
    "# copy_datset([f'dog.{i}.jpg' for i in range(1000)], original_dataset_dir, train_dogs_dir)\n",
    "\n",
    "# copy_datset([f'cat.{i}.jpg' for i in range(1000,1500)], original_dataset_dir, validation_cats_dir)\n",
    "# copy_datset([f'dog.{i}.jpg' for i in range(1000,1500)], original_dataset_dir, validation_dogs_dir)\n",
    "\n",
    "# copy_datset([f'cat.{i}.jpg' for i in range(1500,2000)], original_dataset_dir, test_cats_dir)\n",
    "# copy_datset([f'dog.{i}.jpg' for i in range(1500,2000)], original_dataset_dir, test_dogs_dir)"
   ]
  },
  {
   "cell_type": "code",
   "execution_count": 4,
   "metadata": {},
   "outputs": [
    {
     "name": "stdout",
     "output_type": "stream",
     "text": [
      "Train cat images:1000\n",
      "Train dog images:1000\n",
      "Validation cat images:500\n",
      "Validation dog images:500\n",
      "Test cat images:500\n",
      "Test dog images:500\n"
     ]
    }
   ],
   "source": [
    "# Check number of images.\n",
    "print(f\"Train cat images:{len(os.listdir(train_cats_dir))}\")\n",
    "print(f\"Train dog images:{len(os.listdir(train_dogs_dir))}\")\n",
    "print(f\"Validation cat images:{len(os.listdir(validation_cats_dir))}\")\n",
    "print(f\"Validation dog images:{len(os.listdir(validation_dogs_dir))}\")\n",
    "print(f\"Test cat images:{len(os.listdir(test_cats_dir))}\")\n",
    "print(f\"Test dog images:{len(os.listdir(test_dogs_dir))}\")"
   ]
  },
  {
   "cell_type": "markdown",
   "metadata": {},
   "source": [
    "NOTE: since we have a balanced number of cats and dogs in a dataset accutracy is a valid meaure of succses (this is a balanced binary calssification problem)"
   ]
  },
  {
   "cell_type": "markdown",
   "metadata": {},
   "source": [
    "## Preprocess data by using data generators.\n"
   ]
  },
  {
   "cell_type": "code",
   "execution_count": 19,
   "metadata": {},
   "outputs": [
    {
     "name": "stdout",
     "output_type": "stream",
     "text": [
      "Found 2000 images belonging to 2 classes.\n",
      "Found 1000 images belonging to 2 classes.\n",
      "Found 1000 images belonging to 2 classes.\n"
     ]
    }
   ],
   "source": [
    "from keras.preprocessing.image import ImageDataGenerator\n",
    "# These are generators that can be used to create set up generators that will iterate over images in data folders.\n",
    "train_datagen = ImageDataGenerator(rescale=1./255)\n",
    "validation_datagen = ImageDataGenerator(rescale=1./255)\n",
    "test_datagen = ImageDataGenerator(rescale=1./255)\n",
    "\n",
    "def make_image_generator(datagen,directory):\n",
    "    return datagen.flow_from_directory(directory,\n",
    "                                       target_size=(150, 150), \n",
    "                                       batch_size=20, \n",
    "                                       class_mode='binary')\n",
    "\n",
    "# These are the generators that will generate the training images themselfs.\n",
    "train_generator = make_image_generator(train_datagen, train_dir)\n",
    "validation_generator = make_image_generator(validation_datagen, validation_dir)\n",
    "test_generator = make_image_generator(test_datagen, test_dir)"
   ]
  },
  {
   "cell_type": "markdown",
   "metadata": {},
   "source": [
    "## Create network"
   ]
  },
  {
   "cell_type": "code",
   "execution_count": 20,
   "metadata": {},
   "outputs": [
    {
     "name": "stdout",
     "output_type": "stream",
     "text": [
      "WARNING:tensorflow:From C:\\Users\\azglav\\Anaconda3\\envs\\chollet-deep-learning-with-python\\lib\\site-packages\\tensorflow\\python\\framework\\op_def_library.py:263: colocate_with (from tensorflow.python.framework.ops) is deprecated and will be removed in a future version.\n",
      "Instructions for updating:\n",
      "Colocations handled automatically by placer.\n",
      "_________________________________________________________________\n",
      "Layer (type)                 Output Shape              Param #   \n",
      "=================================================================\n",
      "conv2d_1 (Conv2D)            (None, 148, 148, 32)      896       \n",
      "_________________________________________________________________\n",
      "max_pooling2d_1 (MaxPooling2 (None, 74, 74, 32)        0         \n",
      "_________________________________________________________________\n",
      "conv2d_2 (Conv2D)            (None, 72, 72, 64)        18496     \n",
      "_________________________________________________________________\n",
      "max_pooling2d_2 (MaxPooling2 (None, 36, 36, 64)        0         \n",
      "_________________________________________________________________\n",
      "conv2d_3 (Conv2D)            (None, 34, 34, 128)       73856     \n",
      "_________________________________________________________________\n",
      "max_pooling2d_3 (MaxPooling2 (None, 17, 17, 128)       0         \n",
      "_________________________________________________________________\n",
      "conv2d_4 (Conv2D)            (None, 15, 15, 128)       147584    \n",
      "_________________________________________________________________\n",
      "max_pooling2d_4 (MaxPooling2 (None, 7, 7, 128)         0         \n",
      "_________________________________________________________________\n",
      "flatten_1 (Flatten)          (None, 6272)              0         \n",
      "_________________________________________________________________\n",
      "dense_1 (Dense)              (None, 512)               3211776   \n",
      "_________________________________________________________________\n",
      "dense_2 (Dense)              (None, 1)                 513       \n",
      "=================================================================\n",
      "Total params: 3,453,121\n",
      "Trainable params: 3,453,121\n",
      "Non-trainable params: 0\n",
      "_________________________________________________________________\n"
     ]
    }
   ],
   "source": [
    "from keras import layers, models, optimizers\n",
    "\n",
    "model = models.Sequential()\n",
    "model.add(layers.Conv2D(32, (3, 3), activation='relu', input_shape=(150, 150, 3)))\n",
    "model.add(layers.MaxPooling2D((2, 2)))\n",
    "model.add(layers.Conv2D(64, (3, 3), activation='relu'))\n",
    "model.add(layers.MaxPooling2D((2, 2)))\n",
    "model.add(layers.Conv2D(128, (3, 3), activation='relu'))\n",
    "model.add(layers.MaxPooling2D((2, 2)))\n",
    "model.add(layers.Conv2D(128, (3, 3), activation='relu'))\n",
    "model.add(layers.MaxPooling2D((2, 2)))\n",
    "model.add(layers.Flatten())\n",
    "model.add(layers.Dense(512, activation='relu'))\n",
    "model.add(layers.Dense(1, activation='sigmoid'))\n",
    "model.summary()\n",
    "\n",
    "model.compile(loss='binary_crossentropy', optimizer=optimizers.rmsprop(lr=1e-4), metrics=['acc'])"
   ]
  },
  {
   "cell_type": "markdown",
   "metadata": {},
   "source": [
    "# Train the network using generators"
   ]
  },
  {
   "cell_type": "code",
   "execution_count": 28,
   "metadata": {},
   "outputs": [
    {
     "name": "stdout",
     "output_type": "stream",
     "text": [
      "WARNING:tensorflow:From C:\\Users\\azglav\\Anaconda3\\envs\\chollet-deep-learning-with-python\\lib\\site-packages\\tensorflow\\python\\ops\\math_ops.py:3066: to_int32 (from tensorflow.python.ops.math_ops) is deprecated and will be removed in a future version.\n",
      "Instructions for updating:\n",
      "Use tf.cast instead.\n",
      "Epoch 1/30\n",
      "100/100 [==============================] - 59s 594ms/step - loss: 0.6907 - acc: 0.5240 - val_loss: 0.6705 - val_acc: 0.6080\n",
      "Epoch 2/30\n",
      "100/100 [==============================] - 56s 556ms/step - loss: 0.6600 - acc: 0.5945 - val_loss: 0.6400 - val_acc: 0.6580\n",
      "Epoch 3/30\n",
      "100/100 [==============================] - 56s 564ms/step - loss: 0.6073 - acc: 0.6725 - val_loss: 0.6333 - val_acc: 0.6560\n",
      "Epoch 4/30\n",
      "100/100 [==============================] - 60s 602ms/step - loss: 0.5741 - acc: 0.6900 - val_loss: 0.6351 - val_acc: 0.6270\n",
      "Epoch 5/30\n",
      "100/100 [==============================] - 56s 559ms/step - loss: 0.5453 - acc: 0.7150 - val_loss: 0.6043 - val_acc: 0.6780\n",
      "Epoch 6/30\n",
      "100/100 [==============================] - 57s 565ms/step - loss: 0.5262 - acc: 0.7360 - val_loss: 0.5745 - val_acc: 0.6830\n",
      "Epoch 7/30\n",
      "100/100 [==============================] - 56s 564ms/step - loss: 0.5069 - acc: 0.7450 - val_loss: 0.5655 - val_acc: 0.6940\n",
      "Epoch 8/30\n",
      "100/100 [==============================] - 57s 565ms/step - loss: 0.4831 - acc: 0.7660 - val_loss: 0.5782 - val_acc: 0.6920\n",
      "Epoch 9/30\n",
      "100/100 [==============================] - 60s 604ms/step - loss: 0.4569 - acc: 0.7780 - val_loss: 0.5779 - val_acc: 0.6950\n",
      "Epoch 10/30\n",
      "100/100 [==============================] - 57s 574ms/step - loss: 0.4267 - acc: 0.8005 - val_loss: 0.5797 - val_acc: 0.6980\n",
      "Epoch 11/30\n",
      "100/100 [==============================] - 56s 563ms/step - loss: 0.4165 - acc: 0.8150 - val_loss: 0.5907 - val_acc: 0.6920\n",
      "Epoch 12/30\n",
      "100/100 [==============================] - 57s 566ms/step - loss: 0.3803 - acc: 0.8205 - val_loss: 0.5631 - val_acc: 0.7090\n",
      "Epoch 13/30\n",
      "100/100 [==============================] - 57s 567ms/step - loss: 0.3560 - acc: 0.8450 - val_loss: 0.5714 - val_acc: 0.7040\n",
      "Epoch 14/30\n",
      "100/100 [==============================] - 56s 565ms/step - loss: 0.3347 - acc: 0.8530 - val_loss: 0.7792 - val_acc: 0.6710\n",
      "Epoch 15/30\n",
      "100/100 [==============================] - 58s 575ms/step - loss: 0.3149 - acc: 0.8650 - val_loss: 0.6199 - val_acc: 0.7050\n",
      "Epoch 16/30\n",
      "100/100 [==============================] - 55s 549ms/step - loss: 0.2937 - acc: 0.8780 - val_loss: 0.7043 - val_acc: 0.7070\n",
      "Epoch 17/30\n",
      "100/100 [==============================] - 54s 538ms/step - loss: 0.2766 - acc: 0.8885 - val_loss: 0.6296 - val_acc: 0.7000\n",
      "Epoch 18/30\n",
      "100/100 [==============================] - 54s 540ms/step - loss: 0.2450 - acc: 0.9025 - val_loss: 0.6437 - val_acc: 0.7060\n",
      "Epoch 19/30\n",
      "100/100 [==============================] - 54s 543ms/step - loss: 0.2243 - acc: 0.9135 - val_loss: 0.6668 - val_acc: 0.7200\n",
      "Epoch 20/30\n",
      "100/100 [==============================] - 57s 568ms/step - loss: 0.2077 - acc: 0.9190 - val_loss: 0.6656 - val_acc: 0.7150\n",
      "Epoch 21/30\n",
      "100/100 [==============================] - 57s 573ms/step - loss: 0.1916 - acc: 0.9265 - val_loss: 0.7040 - val_acc: 0.7110\n",
      "Epoch 22/30\n",
      "100/100 [==============================] - 56s 562ms/step - loss: 0.1716 - acc: 0.9365 - val_loss: 0.7163 - val_acc: 0.7190\n",
      "Epoch 23/30\n",
      "100/100 [==============================] - 59s 587ms/step - loss: 0.1545 - acc: 0.9445 - val_loss: 0.8631 - val_acc: 0.7090\n",
      "Epoch 24/30\n",
      "100/100 [==============================] - 56s 555ms/step - loss: 0.1343 - acc: 0.9575 - val_loss: 0.9858 - val_acc: 0.7050\n",
      "Epoch 25/30\n",
      "100/100 [==============================] - 57s 571ms/step - loss: 0.1232 - acc: 0.9545 - val_loss: 0.7784 - val_acc: 0.7190\n",
      "Epoch 26/30\n",
      "100/100 [==============================] - 60s 602ms/step - loss: 0.1012 - acc: 0.9650 - val_loss: 0.8413 - val_acc: 0.7130\n",
      "Epoch 27/30\n",
      "100/100 [==============================] - 57s 570ms/step - loss: 0.0991 - acc: 0.9695 - val_loss: 0.9055 - val_acc: 0.6830\n",
      "Epoch 28/30\n",
      "100/100 [==============================] - 57s 572ms/step - loss: 0.0871 - acc: 0.9705 - val_loss: 0.8862 - val_acc: 0.7220\n",
      "Epoch 29/30\n",
      "100/100 [==============================] - 56s 563ms/step - loss: 0.0729 - acc: 0.9760 - val_loss: 1.5242 - val_acc: 0.6340\n",
      "Epoch 30/30\n",
      "100/100 [==============================] - 57s 568ms/step - loss: 0.0668 - acc: 0.9795 - val_loss: 0.9753 - val_acc: 0.7010\n"
     ]
    }
   ],
   "source": [
    "history = model.fit_generator(train_generator,\n",
    "                              steps_per_epoch=100,\n",
    "                              epochs=30,\n",
    "                              validation_data=validation_generator,\n",
    "                              validation_steps=50)\n",
    "model.save('cats_and_dogs_small_1.h5')\n",
    "(test_loss, test_acc) = model.evaluate_generator(test_generator, steps=50)"
   ]
  },
  {
   "cell_type": "code",
   "execution_count": 34,
   "metadata": {},
   "outputs": [],
   "source": [
    "def plot_history(history):\n",
    "    def plot_history_record(history, record, *args, **kwargs):\n",
    "        values = history.history[record]\n",
    "        epochs = range(1, len(values) + 1)\n",
    "        plt.plot(epochs, values, *args, **kwargs)\n",
    "\n",
    "    plot_history_record(history, 'loss', 'bo', label='Training loss')\n",
    "    plot_history_record(history, 'val_loss', 'b', label='Validation loss')\n",
    "    plt.xlabel('Epochs')\n",
    "    plt.ylabel('loss')\n",
    "    plt.title('Training and validation loss')\n",
    "    plt.legend()\n",
    "    \n",
    "    plt.figure()\n",
    "    plot_history_record(history, 'acc', 'bo', label='Training accuracy')\n",
    "    plot_history_record(history, 'val_acc', 'b', label='Validation accuracy')\n",
    "    plt.xlabel('Epochs')\n",
    "    plt.ylabel('Accuracy')\n",
    "    plt.title('Training and validation accuracy')\n",
    "    plt.legend()"
   ]
  },
  {
   "cell_type": "code",
   "execution_count": 36,
   "metadata": {},
   "outputs": [
    {
     "name": "stdout",
     "output_type": "stream",
     "text": [
      "This model achieved 73.50% accuracy on test data.\n"
     ]
    },
    {
     "data": {
      "image/png": "[encoded data removed]",
      "text/plain": [
       "<Figure size 432x288 with 1 Axes>"
      ]
     },
     "metadata": {
      "needs_background": "light"
     },
     "output_type": "display_data"
    },
    {
     "data": {
      "image/png": "[encoded data removed]",
      "text/plain": [
       "<Figure size 432x288 with 1 Axes>"
      ]
     },
     "metadata": {
      "needs_background": "light"
     },
     "output_type": "display_data"
    }
   ],
   "source": [
    "plot_history(history)\n",
    "print(f\"This model achieved {test_acc * 100:.2f}% accuracy on test data.\")"
   ]
  },
  {
   "cell_type": "markdown",
   "metadata": {},
   "source": [
    "## Use data augmentation\n",
    "Previous example overfit severly and reached accuracy of 73.5%. We will use data augmentation to increase the variation of our dataset. It applies a series of simple transforms to images in dataset so no two used images will be the same(but they will still be simmilar)."
   ]
  },
  {
   "cell_type": "code",
   "execution_count": null,
   "metadata": {},
   "outputs": [],
   "source": [
    "from keras.preprocessing.image import ImageDataGenerator\n",
    "# These are generators that can be used to create set up generators that will iterate over images in data folders.\n",
    "datagen = ImageDataGenerator(rescale=1./255,\n",
    "                             rotation_range=40,\n",
    "                             width_shift_range=0.2,\n",
    "                             height_shift_range=0.2,\n",
    "                             shear_range=0.2,\n",
    "                             zoom_range=0.2,\n",
    "                             horizontal_flip=True,\n",
    "                             fill_mode='nearest')\n",
    "\n",
    "def make_image_generator(datagen,directory):\n",
    "    return datagen.flow_from_directory(directory,\n",
    "                                       target_size=(150, 150), \n",
    "                                       batch_size=20, \n",
    "                                       class_mode='binary')\n",
    "\n",
    "# These are the generators that will generate the training images themselfs.\n",
    "train_generator = make_image_generator(train_datagen, train_dir)\n",
    "validation_generator = make_image_generator(validation_datagen, validation_dir)\n",
    "test_generator = make_image_generator(test_datagen, test_dir)"
   ]
  }
 ],
 "metadata": {
  "kernelspec": {
   "display_name": "Python 3",
   "language": "python",
   "name": "python3"
  },
  "language_info": {
   "codemirror_mode": {
    "name": "ipython",
    "version": 3
   },
   "file_extension": ".py",
   "mimetype": "text/x-python",
   "name": "python",
   "nbconvert_exporter": "python",
   "pygments_lexer": "ipython3",
   "version": "3.6.8"
  }
 },
 "nbformat": 4,
 "nbformat_minor": 2
}
