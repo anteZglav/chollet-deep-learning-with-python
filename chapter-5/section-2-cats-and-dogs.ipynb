{
 "cells": [
  {
   "cell_type": "markdown",
   "metadata": {},
   "source": [
    "# Section 5.2\n",
    "## Handle the dataset\n",
    "Data is stored in project root directory under datsets and a small subset is copied to chapter directory/datasets. It is split into 1000, 500, 500 train validate and test samples each in its own folder.\n",
    "\n",
    "NOTE: add commands that will use kagggle api to pull data."
   ]
  },
  {
   "cell_type": "code",
   "execution_count": 13,
   "metadata": {},
   "outputs": [
    {
     "name": "stdout",
     "output_type": "stream",
     "text": [
      "Directory:\"./datasets/cats_and_dogs_small\" already exists, continuing.\n",
      "Directory:\"./datasets/cats_and_dogs_small\\train\" already exists, continuing.\n",
      "Directory:\"./datasets/cats_and_dogs_small\\validation\" already exists, continuing.\n",
      "Directory:\"./datasets/cats_and_dogs_small\\test\" already exists, continuing.\n",
      "Directory:\"./datasets/cats_and_dogs_small\\train\\cats\" already exists, continuing.\n",
      "Directory:\"./datasets/cats_and_dogs_small\\train\\dogs\" already exists, continuing.\n",
      "Directory:\"./datasets/cats_and_dogs_small\\validation\\cats\" already exists, continuing.\n",
      "Directory:\"./datasets/cats_and_dogs_small\\validation\\dogs\" already exists, continuing.\n",
      "Directory:\"./datasets/cats_and_dogs_small\\test\\cats\" already exists, continuing.\n",
      "Directory:\"./datasets/cats_and_dogs_small\\test\\dogs\" already exists, continuing.\n"
     ]
    }
   ],
   "source": [
    "import os, shutil\n",
    "\n",
    "def create_dir_if_not_existing(dir_name):\n",
    "    # This function cretes a directory if it does not exist otherwise it prints that it exists and continues.\n",
    "    try:\n",
    "        os.mkdir(dir_name) \n",
    "    except FileExistsError:\n",
    "        print(f'Directory:\"{dir_name}\" already exists, continuing.')\n",
    "    \n",
    "original_dataset_dir = '../datasets/dogs-vs-cats/train'\n",
    "# Create directories.\n",
    "base_dir = './datasets/cats_and_dogs_small'\n",
    "create_dir_if_not_existing(base_dir)\n",
    "\n",
    "train_dir = os.path.join(base_dir, 'train') \n",
    "create_dir_if_not_existing(train_dir)\n",
    "\n",
    "validation_dir = os.path.join(base_dir, 'validation') \n",
    "create_dir_if_not_existing(validation_dir)\n",
    "\n",
    "test_dir = os.path.join(base_dir, 'test') \n",
    "create_dir_if_not_existing(test_dir)\n",
    "\n",
    "train_cats_dir = os.path.join(train_dir, 'cats') \n",
    "create_dir_if_not_existing(train_cats_dir)\n",
    "\n",
    "train_dogs_dir = os.path.join(train_dir, 'dogs') \n",
    "create_dir_if_not_existing(train_dogs_dir)\n",
    "\n",
    "validation_cats_dir = os.path.join(validation_dir, 'cats') \n",
    "create_dir_if_not_existing(validation_cats_dir)\n",
    "\n",
    "validation_dogs_dir = os.path.join(validation_dir, 'dogs') \n",
    "create_dir_if_not_existing(validation_dogs_dir)\n",
    "\n",
    "test_cats_dir = os.path.join(test_dir, 'cats') \n",
    "create_dir_if_not_existing(test_cats_dir)\n",
    "\n",
    "test_dogs_dir = os.path.join(test_dir, 'dogs') \n",
    "create_dir_if_not_existing(test_dogs_dir)\n",
    "\n",
    "# Split [train valdiate test] as [1000].\n",
    "def copy_datset(fnames,src_dir,dst_dir):\n",
    "    for fname in fnames:\n",
    "        src = os.path.join(src_dir, fname)\n",
    "        dst = os.path.join(dst_dir, fname)\n",
    "        shutil.copyfile(src,dst)\n",
    "        \n",
    "copy_datset([f'cat.{i}.jpg' for i in range(1000)], original_dataset_dir, train_cats_dir)\n",
    "copy_datset([f'dog.{i}.jpg' for i in range(1000)], original_dataset_dir, train_dogs_dir)\n",
    "\n",
    "copy_datset([f'cat.{i}.jpg' for i in range(1000,1500)], original_dataset_dir, validation_cats_dir)\n",
    "copy_datset([f'dog.{i}.jpg' for i in range(1000,1500)], original_dataset_dir, validation_dogs_dir)\n",
    "\n",
    "copy_datset([f'cat.{i}.jpg' for i in range(1500,2000)], original_dataset_dir, test_cats_dir)\n",
    "copy_datset([f'dog.{i}.jpg' for i in range(1500,2000)], original_dataset_dir, test_dogs_dir)"
   ]
  },
  {
   "cell_type": "code",
   "execution_count": 15,
   "metadata": {},
   "outputs": [
    {
     "name": "stdout",
     "output_type": "stream",
     "text": [
      "Train cat images:1000\n",
      "Train dog images:1000\n",
      "Validation cat images:500\n",
      "Validation dog images:500\n",
      "Test cat images:500\n",
      "Test dog images:500\n"
     ]
    }
   ],
   "source": [
    "# Check number of images.\n",
    "print(f\"Train cat images:{len(os.listdir(train_cats_dir))}\")\n",
    "print(f\"Train dog images:{len(os.listdir(train_dogs_dir))}\")\n",
    "print(f\"Validation cat images:{len(os.listdir(validation_cats_dir))}\")\n",
    "print(f\"Validation dog images:{len(os.listdir(validation_dogs_dir))}\")\n",
    "print(f\"Test cat images:{len(os.listdir(test_cats_dir))}\")\n",
    "print(f\"Test dog images:{len(os.listdir(test_dogs_dir))}\")"
   ]
  },
  {
   "cell_type": "markdown",
   "metadata": {},
   "source": [
    "NOTE: since we have a balanced number of cats and dogs in a dataset accutracy is a valid meaure of succses (this is a balanced binary calssification problem)"
   ]
  },
  {
   "cell_type": "markdown",
   "metadata": {},
   "source": [
    "## Preprocess data\n"
   ]
  },
  {
   "cell_type": "code",
   "execution_count": null,
   "metadata": {},
   "outputs": [],
   "source": [
    "from keras.preprocessing.image import ImageDataGenerator\n",
    "train_datagen = ImageDataGenerator(rescale=1./255)\n",
    "test_datagen = ImageDataGenerator(rescale=1./255)\n",
    "train_generator = train_datagen.flow_from_directory(train_dir, target_size=(150, 150), batch_size=20, class_mode='binary')\n",
    "test_generator = test_datagen.flow_from_directory(test_dir, target_size=(150, 150), batch_size=20, class_mode='binary')"
   ]
  },
  {
   "cell_type": "markdown",
   "metadata": {},
   "source": [
    "## Create network"
   ]
  },
  {
   "cell_type": "code",
   "execution_count": 21,
   "metadata": {},
   "outputs": [
    {
     "name": "stdout",
     "output_type": "stream",
     "text": [
      "_________________________________________________________________\n",
      "Layer (type)                 Output Shape              Param #   \n",
      "=================================================================\n",
      "conv2d_11 (Conv2D)           (None, 148, 148, 32)      896       \n",
      "_________________________________________________________________\n",
      "max_pooling2d_11 (MaxPooling (None, 74, 74, 32)        0         \n",
      "_________________________________________________________________\n",
      "conv2d_12 (Conv2D)           (None, 72, 72, 64)        18496     \n",
      "_________________________________________________________________\n",
      "max_pooling2d_12 (MaxPooling (None, 36, 36, 64)        0         \n",
      "_________________________________________________________________\n",
      "conv2d_13 (Conv2D)           (None, 34, 34, 128)       73856     \n",
      "_________________________________________________________________\n",
      "max_pooling2d_13 (MaxPooling (None, 17, 17, 128)       0         \n",
      "_________________________________________________________________\n",
      "conv2d_14 (Conv2D)           (None, 15, 15, 128)       147584    \n",
      "_________________________________________________________________\n",
      "max_pooling2d_14 (MaxPooling (None, 7, 7, 128)         0         \n",
      "_________________________________________________________________\n",
      "flatten_4 (Flatten)          (None, 6272)              0         \n",
      "_________________________________________________________________\n",
      "dense_7 (Dense)              (None, 512)               3211776   \n",
      "_________________________________________________________________\n",
      "dense_8 (Dense)              (None, 1)                 513       \n",
      "=================================================================\n",
      "Total params: 3,453,121\n",
      "Trainable params: 3,453,121\n",
      "Non-trainable params: 0\n",
      "_________________________________________________________________\n"
     ]
    }
   ],
   "source": [
    "from keras import layers, models, optimizers\n",
    "\n",
    "model = models.Sequential()\n",
    "model.add(layers.Conv2D(32, (3, 3), activation='relu', input_shape=(150, 150, 3)))\n",
    "model.add(layers.MaxPooling2D((2, 2)))\n",
    "model.add(layers.Conv2D(64, (3, 3), activation='relu'))\n",
    "model.add(layers.MaxPooling2D((2, 2)))\n",
    "model.add(layers.Conv2D(128, (3, 3), activation='relu'))\n",
    "model.add(layers.MaxPooling2D((2, 2)))\n",
    "model.add(layers.Conv2D(128, (3, 3), activation='relu'))\n",
    "model.add(layers.MaxPooling2D((2, 2)))\n",
    "model.add(layers.Flatten())\n",
    "model.add(layers.Dense(512, activation='relu'))\n",
    "model.add(layers.Dense(1, activation='sigmoid'))\n",
    "model.summary()\n",
    "\n",
    "model.compile(loss='binary_crossentropy', optimizer=optimizers.rmsprop(lr=1e-4), metrics=['acc'])"
   ]
  }
 ],
 "metadata": {
  "kernelspec": {
   "display_name": "Python 3",
   "language": "python",
   "name": "python3"
  },
  "language_info": {
   "codemirror_mode": {
    "name": "ipython",
    "version": 3
   },
   "file_extension": ".py",
   "mimetype": "text/x-python",
   "name": "python",
   "nbconvert_exporter": "python",
   "pygments_lexer": "ipython3",
   "version": "3.6.8"
  }
 },
 "nbformat": 4,
 "nbformat_minor": 2
}
