{
 "cells": [
  {
   "cell_type": "markdown",
   "metadata": {},
   "source": [
    "# 3. Pretrained convnets"
   ]
  },
  {
   "cell_type": "markdown",
   "metadata": {},
   "source": [
    "Here I will be using VGG16 net trained on ImageNet which comes with Keras. I will reuse the convolutional base while retraining the dense classifier to clasify cat and dog dataset from section 2."
   ]
  },
  {
   "cell_type": "code",
   "execution_count": 14,
   "metadata": {},
   "outputs": [],
   "source": [
    "from keras.applications import VGG16\n",
    "import keras"
   ]
  },
  {
   "cell_type": "code",
   "execution_count": 2,
   "metadata": {},
   "outputs": [
    {
     "name": "stdout",
     "output_type": "stream",
     "text": [
      "VGG16 convolutional base outputs a (None, 4, 4, 512) tensor.\n"
     ]
    }
   ],
   "source": [
    "conv_base = VGG16(weights='imagenet',\n",
    "                  include_top=False,\n",
    "                  input_shape=(150,150,3))\n",
    "print(f\"VGG16 convolutional base outputs a {conv_base.output_shape} tensor.\")\n"
   ]
  },
  {
   "cell_type": "markdown",
   "metadata": {},
   "source": [
    "We could run the convolutional base over the avilable data once and store the results. After that we can train the dense layers over those results. This is faster but we cannot use data augmentation.\n",
    "\n",
    "We can extend the model with dense layers and run the whole thing. This is much more expensive but supports data augmentation. "
   ]
  },
  {
   "cell_type": "markdown",
   "metadata": {},
   "source": [
    "## First method: run conv base once"
   ]
  },
  {
   "cell_type": "code",
   "execution_count": 3,
   "metadata": {},
   "outputs": [],
   "source": [
    "import os\n",
    "import numpy as np\n",
    "from keras.preprocessing.image import ImageDataGenerator\n",
    "from keras import models, layers, optimizers\n",
    "import matplotlib.pyplot as plt"
   ]
  },
  {
   "cell_type": "code",
   "execution_count": 4,
   "metadata": {},
   "outputs": [
    {
     "name": "stdout",
     "output_type": "stream",
     "text": [
      "Extracting features from 2000 samples in ./datasets/cats_and_dogs_small/train.\n",
      "Found 2000 images belonging to 2 classes.\n",
      "0/2000\n",
      "20/2000\n",
      "40/2000\n",
      "60/2000\n",
      "80/2000\n",
      "100/2000\n",
      "120/2000\n",
      "140/2000\n",
      "160/2000\n",
      "180/2000\n",
      "200/2000\n",
      "220/2000\n",
      "240/2000\n",
      "260/2000\n",
      "280/2000\n",
      "300/2000\n",
      "320/2000\n",
      "340/2000\n",
      "360/2000\n",
      "380/2000\n",
      "400/2000\n",
      "420/2000\n",
      "440/2000\n",
      "460/2000\n",
      "480/2000\n",
      "500/2000\n",
      "520/2000\n",
      "540/2000\n",
      "560/2000\n",
      "580/2000\n",
      "600/2000\n",
      "620/2000\n",
      "640/2000\n",
      "660/2000\n",
      "680/2000\n",
      "700/2000\n",
      "720/2000\n",
      "740/2000\n",
      "760/2000\n",
      "780/2000\n",
      "800/2000\n",
      "820/2000\n",
      "840/2000\n",
      "860/2000\n",
      "880/2000\n",
      "900/2000\n",
      "920/2000\n",
      "940/2000\n",
      "960/2000\n",
      "980/2000\n",
      "1000/2000\n",
      "1020/2000\n",
      "1040/2000\n",
      "1060/2000\n",
      "1080/2000\n",
      "1100/2000\n",
      "1120/2000\n",
      "1140/2000\n",
      "1160/2000\n",
      "1180/2000\n",
      "1200/2000\n",
      "1220/2000\n",
      "1240/2000\n",
      "1260/2000\n",
      "1280/2000\n",
      "1300/2000\n",
      "1320/2000\n",
      "1340/2000\n",
      "1360/2000\n",
      "1380/2000\n",
      "1400/2000\n",
      "1420/2000\n",
      "1440/2000\n",
      "1460/2000\n",
      "1480/2000\n",
      "1500/2000\n",
      "1520/2000\n",
      "1540/2000\n",
      "1560/2000\n",
      "1580/2000\n",
      "1600/2000\n",
      "1620/2000\n",
      "1640/2000\n",
      "1660/2000\n",
      "1680/2000\n",
      "1700/2000\n",
      "1720/2000\n",
      "1740/2000\n",
      "1760/2000\n",
      "1780/2000\n",
      "1800/2000\n",
      "1820/2000\n",
      "1840/2000\n",
      "1860/2000\n",
      "1880/2000\n",
      "1900/2000\n",
      "1920/2000\n",
      "1940/2000\n",
      "1960/2000\n",
      "1980/2000\n",
      "Extracting features from 1000 samples in ./datasets/cats_and_dogs_small/validation.\n",
      "Found 1000 images belonging to 2 classes.\n",
      "0/1000\n",
      "20/1000\n",
      "40/1000\n",
      "60/1000\n",
      "80/1000\n",
      "100/1000\n",
      "120/1000\n",
      "140/1000\n",
      "160/1000\n",
      "180/1000\n",
      "200/1000\n",
      "220/1000\n",
      "240/1000\n",
      "260/1000\n",
      "280/1000\n",
      "300/1000\n",
      "320/1000\n",
      "340/1000\n",
      "360/1000\n",
      "380/1000\n",
      "400/1000\n",
      "420/1000\n",
      "440/1000\n",
      "460/1000\n",
      "480/1000\n",
      "500/1000\n",
      "520/1000\n",
      "540/1000\n",
      "560/1000\n",
      "580/1000\n",
      "600/1000\n",
      "620/1000\n",
      "640/1000\n",
      "660/1000\n",
      "680/1000\n",
      "700/1000\n",
      "720/1000\n",
      "740/1000\n",
      "760/1000\n",
      "780/1000\n",
      "800/1000\n",
      "820/1000\n",
      "840/1000\n",
      "860/1000\n",
      "880/1000\n",
      "900/1000\n",
      "920/1000\n",
      "940/1000\n",
      "960/1000\n",
      "980/1000\n",
      "Extracting features from 1000 samples in ./datasets/cats_and_dogs_small/test.\n",
      "Found 1000 images belonging to 2 classes.\n",
      "0/1000\n",
      "20/1000\n",
      "40/1000\n",
      "60/1000\n",
      "80/1000\n",
      "100/1000\n",
      "120/1000\n",
      "140/1000\n",
      "160/1000\n",
      "180/1000\n",
      "200/1000\n",
      "220/1000\n",
      "240/1000\n",
      "260/1000\n",
      "280/1000\n",
      "300/1000\n",
      "320/1000\n",
      "340/1000\n",
      "360/1000\n",
      "380/1000\n",
      "400/1000\n",
      "420/1000\n",
      "440/1000\n",
      "460/1000\n",
      "480/1000\n",
      "500/1000\n",
      "520/1000\n",
      "540/1000\n",
      "560/1000\n",
      "580/1000\n",
      "600/1000\n",
      "620/1000\n",
      "640/1000\n",
      "660/1000\n",
      "680/1000\n",
      "700/1000\n",
      "720/1000\n",
      "740/1000\n",
      "760/1000\n",
      "780/1000\n",
      "800/1000\n",
      "820/1000\n",
      "840/1000\n",
      "860/1000\n",
      "880/1000\n",
      "900/1000\n",
      "920/1000\n",
      "940/1000\n",
      "960/1000\n",
      "980/1000\n"
     ]
    }
   ],
   "source": [
    "base_dir = './datasets/cats_and_dogs_small'\n",
    "train_dir = os.path.join(base_dir,'train')\n",
    "validation_dir = os.path.join(base_dir,'validation')\n",
    "test_dir = os.path.join(base_dir,'test')\n",
    "\n",
    "datagen = ImageDataGenerator(rescale=1./255)\n",
    "batch_size = 20\n",
    "\n",
    "def extract_features(directory, sample_count):\n",
    "    print(f\"Extracting features from {sample_count} samples in {directory}.\")\n",
    "    features = np.zeros(shape=(sample_count, 4, 4, 512))\n",
    "    labels = np.zeros(shape=(sample_count))\n",
    "    generator = datagen.flow_from_directory(\n",
    "                                            directory,\n",
    "                                            target_size=(150,150),\n",
    "                                            batch_size=batch_size,\n",
    "                                            class_mode='binary')\n",
    "    i = 0\n",
    "    for inputs_batch, labels_batch in generator:\n",
    "        features_batch = conv_base.predict(inputs_batch)\n",
    "        features[i * batch_size : (i + 1) * batch_size] = features_batch\n",
    "        labels[i * batch_size : (i + 1) * batch_size] = labels_batch\n",
    "        print(f\"{i * batch_size }/{sample_count}\")\n",
    "        i += 1\n",
    "        if i * batch_size >= sample_count:\n",
    "            break\n",
    "    return features, labels\n",
    "\n",
    "train_features, train_labels = extract_features(train_dir, 2000)\n",
    "validation_features, validation_labels = extract_features(validation_dir, 1000)\n",
    "test_features, test_labels = extract_features(test_dir, 1000)"
   ]
  },
  {
   "cell_type": "code",
   "execution_count": 5,
   "metadata": {},
   "outputs": [],
   "source": [
    "# Flatten features.\n",
    "train_features = train_features.reshape((2000, 4 * 4 * 512))\n",
    "validation_features = validation_features.reshape((1000, 4 * 4 * 512))\n",
    "test_features = test_features.reshape((1000, 4 * 4 * 512))"
   ]
  },
  {
   "cell_type": "code",
   "execution_count": 6,
   "metadata": {},
   "outputs": [
    {
     "name": "stdout",
     "output_type": "stream",
     "text": [
      "Train on 2000 samples, validate on 1000 samples\n",
      "Epoch 1/30\n",
      "2000/2000 [==============================] - 1s 562us/step - loss: 0.6326 - acc: 0.6400 - val_loss: 0.4563 - val_acc: 0.8230\n",
      "Epoch 2/30\n",
      "2000/2000 [==============================] - 1s 288us/step - loss: 0.4374 - acc: 0.8005 - val_loss: 0.3672 - val_acc: 0.8530\n",
      "Epoch 3/30\n",
      "2000/2000 [==============================] - 1s 288us/step - loss: 0.3635 - acc: 0.8400 - val_loss: 0.3291 - val_acc: 0.8740\n",
      "Epoch 4/30\n",
      "2000/2000 [==============================] - 1s 287us/step - loss: 0.3134 - acc: 0.8715 - val_loss: 0.3142 - val_acc: 0.8760\n",
      "Epoch 5/30\n",
      "2000/2000 [==============================] - 1s 288us/step - loss: 0.2929 - acc: 0.8825 - val_loss: 0.2890 - val_acc: 0.8860\n",
      "Epoch 6/30\n",
      "2000/2000 [==============================] - 1s 286us/step - loss: 0.2742 - acc: 0.8940 - val_loss: 0.2793 - val_acc: 0.8870\n",
      "Epoch 7/30\n",
      "2000/2000 [==============================] - 1s 288us/step - loss: 0.2505 - acc: 0.9040 - val_loss: 0.2850 - val_acc: 0.8790\n",
      "Epoch 8/30\n",
      "2000/2000 [==============================] - 1s 287us/step - loss: 0.2394 - acc: 0.9035 - val_loss: 0.2724 - val_acc: 0.8850\n",
      "Epoch 9/30\n",
      "2000/2000 [==============================] - 1s 287us/step - loss: 0.2183 - acc: 0.9220 - val_loss: 0.2538 - val_acc: 0.8970\n",
      "Epoch 10/30\n",
      "2000/2000 [==============================] - 1s 288us/step - loss: 0.2075 - acc: 0.9210 - val_loss: 0.2517 - val_acc: 0.8940\n",
      "Epoch 11/30\n",
      "2000/2000 [==============================] - 1s 285us/step - loss: 0.1990 - acc: 0.9270 - val_loss: 0.2531 - val_acc: 0.8950\n",
      "Epoch 12/30\n",
      "2000/2000 [==============================] - 1s 287us/step - loss: 0.1936 - acc: 0.9295 - val_loss: 0.2439 - val_acc: 0.9000\n",
      "Epoch 13/30\n",
      "2000/2000 [==============================] - 1s 287us/step - loss: 0.1824 - acc: 0.9350 - val_loss: 0.2409 - val_acc: 0.8980\n",
      "Epoch 14/30\n",
      "2000/2000 [==============================] - 1s 287us/step - loss: 0.1770 - acc: 0.9320 - val_loss: 0.2403 - val_acc: 0.9040\n",
      "Epoch 15/30\n",
      "2000/2000 [==============================] - 1s 286us/step - loss: 0.1648 - acc: 0.9410 - val_loss: 0.2391 - val_acc: 0.8980\n",
      "Epoch 16/30\n",
      "2000/2000 [==============================] - 1s 285us/step - loss: 0.1580 - acc: 0.9385 - val_loss: 0.2459 - val_acc: 0.8990\n",
      "Epoch 17/30\n",
      "2000/2000 [==============================] - 1s 288us/step - loss: 0.1600 - acc: 0.9480 - val_loss: 0.2378 - val_acc: 0.9000\n",
      "Epoch 18/30\n",
      "2000/2000 [==============================] - 1s 287us/step - loss: 0.1471 - acc: 0.9475 - val_loss: 0.2365 - val_acc: 0.9030\n",
      "Epoch 19/30\n",
      "2000/2000 [==============================] - 1s 288us/step - loss: 0.1473 - acc: 0.9530 - val_loss: 0.2517 - val_acc: 0.8910\n",
      "Epoch 20/30\n",
      "2000/2000 [==============================] - 1s 286us/step - loss: 0.1371 - acc: 0.9525 - val_loss: 0.2339 - val_acc: 0.9040\n",
      "Epoch 21/30\n",
      "2000/2000 [==============================] - 1s 288us/step - loss: 0.1280 - acc: 0.9605 - val_loss: 0.2442 - val_acc: 0.9020\n",
      "Epoch 22/30\n",
      "2000/2000 [==============================] - 1s 287us/step - loss: 0.1294 - acc: 0.9565 - val_loss: 0.2337 - val_acc: 0.9000\n",
      "Epoch 23/30\n",
      "2000/2000 [==============================] - 1s 285us/step - loss: 0.1242 - acc: 0.9545 - val_loss: 0.2339 - val_acc: 0.8990\n",
      "Epoch 24/30\n",
      "2000/2000 [==============================] - 1s 288us/step - loss: 0.1183 - acc: 0.9605 - val_loss: 0.2347 - val_acc: 0.9040\n",
      "Epoch 25/30\n",
      "2000/2000 [==============================] - 1s 287us/step - loss: 0.1133 - acc: 0.9640 - val_loss: 0.2358 - val_acc: 0.9010\n",
      "Epoch 26/30\n",
      "2000/2000 [==============================] - 1s 288us/step - loss: 0.1065 - acc: 0.9645 - val_loss: 0.2469 - val_acc: 0.9010\n",
      "Epoch 27/30\n",
      "2000/2000 [==============================] - 1s 286us/step - loss: 0.1069 - acc: 0.9675 - val_loss: 0.2362 - val_acc: 0.9000\n",
      "Epoch 28/30\n",
      "2000/2000 [==============================] - 1s 288us/step - loss: 0.1009 - acc: 0.9685 - val_loss: 0.2356 - val_acc: 0.9040\n",
      "Epoch 29/30\n",
      "2000/2000 [==============================] - 1s 290us/step - loss: 0.1002 - acc: 0.9635 - val_loss: 0.2377 - val_acc: 0.9020\n",
      "Epoch 30/30\n",
      "2000/2000 [==============================] - 1s 287us/step - loss: 0.0965 - acc: 0.9740 - val_loss: 0.2368 - val_acc: 0.9030\n"
     ]
    }
   ],
   "source": [
    "# Define the classifier.\n",
    "model = models.Sequential()\n",
    "model.add(layers.Dense(256, activation='relu', input_dim= 4 * 4 * 512))\n",
    "model.add(layers.Dropout(0.5))\n",
    "model.add(layers.Dense(1, activation='sigmoid'))\n",
    "\n",
    "model.compile(optimizer=optimizers.RMSprop(lr=2e-5),\n",
    "              loss='binary_crossentropy',\n",
    "              metrics=['acc'])\n",
    "\n",
    "history = model.fit(train_features,\n",
    "                    train_labels,\n",
    "                    epochs=30,\n",
    "                    batch_size=20,\n",
    "                    validation_data=(validation_features, validation_labels))"
   ]
  },
  {
   "cell_type": "code",
   "execution_count": 7,
   "metadata": {},
   "outputs": [
    {
     "data": {
      "image/png": "[encoded data removed]",
      "text/plain": [
       "<Figure size 432x288 with 1 Axes>"
      ]
     },
     "metadata": {},
     "output_type": "display_data"
    },
    {
     "data": {
      "image/png": "[encoded data removed]",
      "text/plain": [
       "<Figure size 432x288 with 1 Axes>"
      ]
     },
     "metadata": {},
     "output_type": "display_data"
    }
   ],
   "source": [
    "def plot_history(history):\n",
    "    def plot_history_record(history, record, *args, **kwargs):\n",
    "        values = history.history[record]\n",
    "        epochs = range(1, len(values) + 1)\n",
    "        plt.plot(epochs, values, *args, **kwargs)\n",
    "\n",
    "    plot_history_record(history, 'loss', 'bo', label='Training loss')\n",
    "    plot_history_record(history, 'val_loss', 'b', label='Validation loss')\n",
    "    plt.xlabel('Epochs')\n",
    "    plt.ylabel('loss')\n",
    "    plt.title('Training and validation loss')\n",
    "    plt.legend()\n",
    "    \n",
    "    plt.figure()\n",
    "    plot_history_record(history, 'acc', 'bo', label='Training accuracy')\n",
    "    plot_history_record(history, 'val_acc', 'b', label='Validation accuracy')\n",
    "    plt.xlabel('Epochs')\n",
    "    plt.ylabel('Accuracy')\n",
    "    plt.title('Training and validation accuracy')\n",
    "    plt.legend()\n",
    "plot_history(history)"
   ]
  },
  {
   "cell_type": "markdown",
   "metadata": {},
   "source": [
    "We can see that we are achiveing great results but also significantly overfitting the training data. This is because we are not using data augmentation with a small image dataset."
   ]
  },
  {
   "cell_type": "markdown",
   "metadata": {},
   "source": [
    "# Feature extraction with data augmentation\n",
    "Here we will extend the base with a classifier.\n",
    "\n",
    "**This will probably be intractable on a CPU. Ensure you have a GPU to run this code.**"
   ]
  },
  {
   "cell_type": "code",
   "execution_count": 8,
   "metadata": {},
   "outputs": [
    {
     "name": "stdout",
     "output_type": "stream",
     "text": [
      "_________________________________________________________________\n",
      "Layer (type)                 Output Shape              Param #   \n",
      "=================================================================\n",
      "vgg16 (Model)                (None, 4, 4, 512)         14714688  \n",
      "_________________________________________________________________\n",
      "flatten_1 (Flatten)          (None, 8192)              0         \n",
      "_________________________________________________________________\n",
      "dense_3 (Dense)              (None, 256)               2097408   \n",
      "_________________________________________________________________\n",
      "dense_4 (Dense)              (None, 1)                 257       \n",
      "=================================================================\n",
      "Total params: 16,812,353\n",
      "Trainable params: 16,812,353\n",
      "Non-trainable params: 0\n",
      "_________________________________________________________________\n"
     ]
    }
   ],
   "source": [
    "model = models.Sequential()\n",
    "model.add(conv_base)\n",
    "model.add(layers.Flatten())\n",
    "model.add(layers.Dense(256,activation='relu'))\n",
    "model.add(layers.Dense(1,activation='sigmoid'))\n",
    "model.summary()"
   ]
  },
  {
   "cell_type": "code",
   "execution_count": 9,
   "metadata": {},
   "outputs": [
    {
     "name": "stdout",
     "output_type": "stream",
     "text": [
      "Number of paramters before freezing the base:30 \n",
      "Number of paramters after freezing the base:4 \n"
     ]
    }
   ],
   "source": [
    "# Freeze the base.\n",
    "conv_base.trainable = True\n",
    "print(f\"Number of paramters before freezing the base:{len(model.trainable_weights)} \")\n",
    "conv_base.trainable = False\n",
    "print(f\"Number of paramters after freezing the base:{len(model.trainable_weights)} \")"
   ]
  },
  {
   "cell_type": "code",
   "execution_count": 10,
   "metadata": {},
   "outputs": [
    {
     "name": "stdout",
     "output_type": "stream",
     "text": [
      "Found 2000 images belonging to 2 classes.\n",
      "Found 1000 images belonging to 2 classes.\n",
      "Epoch 1/30\n",
      "100/100 [==============================] - 31s 307ms/step - loss: 0.6031 - acc: 0.6880 - val_loss: 0.4610 - val_acc: 0.8110\n",
      "Epoch 2/30\n",
      "100/100 [==============================] - 30s 303ms/step - loss: 0.4836 - acc: 0.7790 - val_loss: 0.3771 - val_acc: 0.8560\n",
      "Epoch 3/30\n",
      "100/100 [==============================] - 30s 303ms/step - loss: 0.4257 - acc: 0.8135 - val_loss: 0.3340 - val_acc: 0.8710\n",
      "Epoch 4/30\n",
      "100/100 [==============================] - 30s 304ms/step - loss: 0.4077 - acc: 0.8150 - val_loss: 0.3140 - val_acc: 0.8780\n",
      "Epoch 5/30\n",
      "100/100 [==============================] - 30s 303ms/step - loss: 0.3836 - acc: 0.8275 - val_loss: 0.2964 - val_acc: 0.8780\n",
      "Epoch 6/30\n",
      "100/100 [==============================] - 30s 303ms/step - loss: 0.3713 - acc: 0.8355 - val_loss: 0.3067 - val_acc: 0.8640\n",
      "Epoch 7/30\n",
      "100/100 [==============================] - 30s 304ms/step - loss: 0.3563 - acc: 0.8370 - val_loss: 0.2768 - val_acc: 0.8870\n",
      "Epoch 8/30\n",
      "100/100 [==============================] - 30s 303ms/step - loss: 0.3533 - acc: 0.8480 - val_loss: 0.2712 - val_acc: 0.8870\n",
      "Epoch 9/30\n",
      "100/100 [==============================] - 30s 303ms/step - loss: 0.3453 - acc: 0.8410 - val_loss: 0.2713 - val_acc: 0.8830\n",
      "Epoch 10/30\n",
      "100/100 [==============================] - 30s 303ms/step - loss: 0.3338 - acc: 0.8625 - val_loss: 0.2647 - val_acc: 0.8840\n",
      "Epoch 11/30\n",
      "100/100 [==============================] - 30s 303ms/step - loss: 0.3386 - acc: 0.8525 - val_loss: 0.2601 - val_acc: 0.8950\n",
      "Epoch 12/30\n",
      "100/100 [==============================] - 30s 303ms/step - loss: 0.3306 - acc: 0.8525 - val_loss: 0.2624 - val_acc: 0.8860\n",
      "Epoch 13/30\n",
      "100/100 [==============================] - 30s 303ms/step - loss: 0.3206 - acc: 0.8560 - val_loss: 0.2543 - val_acc: 0.8860\n",
      "Epoch 14/30\n",
      "100/100 [==============================] - 30s 303ms/step - loss: 0.3247 - acc: 0.8505 - val_loss: 0.2634 - val_acc: 0.8820\n",
      "Epoch 15/30\n",
      "100/100 [==============================] - 30s 303ms/step - loss: 0.3148 - acc: 0.8660 - val_loss: 0.2511 - val_acc: 0.8990\n",
      "Epoch 16/30\n",
      "100/100 [==============================] - 30s 303ms/step - loss: 0.3121 - acc: 0.8635 - val_loss: 0.2618 - val_acc: 0.8870\n",
      "Epoch 17/30\n",
      "100/100 [==============================] - 30s 304ms/step - loss: 0.3160 - acc: 0.8635 - val_loss: 0.2448 - val_acc: 0.8980\n",
      "Epoch 18/30\n",
      "100/100 [==============================] - 30s 304ms/step - loss: 0.3127 - acc: 0.8580 - val_loss: 0.2592 - val_acc: 0.8890\n",
      "Epoch 19/30\n",
      "100/100 [==============================] - 30s 303ms/step - loss: 0.3050 - acc: 0.8630 - val_loss: 0.2453 - val_acc: 0.8950\n",
      "Epoch 20/30\n",
      "100/100 [==============================] - 30s 304ms/step - loss: 0.3062 - acc: 0.8695 - val_loss: 0.2422 - val_acc: 0.8970\n",
      "Epoch 21/30\n",
      "100/100 [==============================] - 30s 304ms/step - loss: 0.2924 - acc: 0.8700 - val_loss: 0.2421 - val_acc: 0.8970\n",
      "Epoch 22/30\n",
      "100/100 [==============================] - 30s 303ms/step - loss: 0.3048 - acc: 0.8670 - val_loss: 0.2485 - val_acc: 0.8970\n",
      "Epoch 23/30\n",
      "100/100 [==============================] - 30s 303ms/step - loss: 0.2943 - acc: 0.8730 - val_loss: 0.2551 - val_acc: 0.8930\n",
      "Epoch 24/30\n",
      "100/100 [==============================] - 30s 303ms/step - loss: 0.2913 - acc: 0.8755 - val_loss: 0.2560 - val_acc: 0.8880\n",
      "Epoch 25/30\n",
      "100/100 [==============================] - 30s 303ms/step - loss: 0.2857 - acc: 0.8805 - val_loss: 0.2427 - val_acc: 0.8980\n",
      "Epoch 26/30\n",
      "100/100 [==============================] - 30s 303ms/step - loss: 0.2914 - acc: 0.8800 - val_loss: 0.2550 - val_acc: 0.8960\n",
      "Epoch 27/30\n",
      "100/100 [==============================] - 30s 304ms/step - loss: 0.2933 - acc: 0.8645 - val_loss: 0.2403 - val_acc: 0.9030\n",
      "Epoch 28/30\n",
      "100/100 [==============================] - 30s 303ms/step - loss: 0.2807 - acc: 0.8805 - val_loss: 0.2399 - val_acc: 0.9000\n",
      "Epoch 29/30\n",
      "100/100 [==============================] - 30s 304ms/step - loss: 0.2856 - acc: 0.8815 - val_loss: 0.2462 - val_acc: 0.8980\n",
      "Epoch 30/30\n",
      "100/100 [==============================] - 30s 303ms/step - loss: 0.2735 - acc: 0.8855 - val_loss: 0.2389 - val_acc: 0.9000\n"
     ]
    }
   ],
   "source": [
    "train_datagen = ImageDataGenerator(rescale=1./255,\n",
    "                                   rotation_range=40,\n",
    "                                   width_shift_range=0.2,\n",
    "                                   height_shift_range=0.2,\n",
    "                                   shear_range=0.2,\n",
    "                                   zoom_range=0.2,\n",
    "                                   horizontal_flip=True,\n",
    "                                   fill_mode='nearest')\n",
    "test_datagen = ImageDataGenerator(rescale=1./255)\n",
    "train_generator = train_datagen.flow_from_directory(train_dir, \n",
    "                                                    target_size=(150, 150), \n",
    "                                                    batch_size=20, \n",
    "                                                    class_mode='binary')\n",
    "validation_generator = test_datagen.flow_from_directory(validation_dir,\n",
    "                                                        target_size=(150, 150), \n",
    "                                                        batch_size=20, \n",
    "                                                        class_mode='binary')\n",
    "model.compile(loss='binary_crossentropy',\n",
    "             optimizer=optimizers.RMSprop(lr=2e-5),\n",
    "             metrics=['acc'])\n",
    "history = model.fit_generator(train_generator,\n",
    "                              steps_per_epoch=100,\n",
    "                              epochs=30, \n",
    "                              validation_data=validation_generator,\n",
    "                              validation_steps=50)"
   ]
  },
  {
   "cell_type": "code",
   "execution_count": 11,
   "metadata": {},
   "outputs": [
    {
     "data": {
      "image/png": "[encoded data removed]",
      "text/plain": [
       "<Figure size 432x288 with 1 Axes>"
      ]
     },
     "metadata": {},
     "output_type": "display_data"
    },
    {
     "data": {
      "image/png": "[encoded data removed]",
      "text/plain": [
       "<Figure size 432x288 with 1 Axes>"
      ]
     },
     "metadata": {},
     "output_type": "display_data"
    }
   ],
   "source": [
    "plot_history(history)"
   ]
  },
  {
   "cell_type": "markdown",
   "metadata": {},
   "source": [
    "## Fine tuning method\n",
    "In this method we unfreeze the last few layers of a frozen model base and train those layers along with the added Dense classifier. This can only be done once the clasiffier has already been trained. Otherwise the overly large error value will destroy the representation in the leyers underrgoing tuning."
   ]
  },
  {
   "cell_type": "code",
   "execution_count": 12,
   "metadata": {},
   "outputs": [],
   "source": [
    "# Unfreeze the last convolutional block.\n",
    "conv_base.trainable = True\n",
    "\n",
    "set_trainable = False\n",
    "for layer in conv_base.layers:\n",
    "    if layer.name == 'block5_conv1':\n",
    "        set_trainable = True\n",
    "    if set_trainable:\n",
    "        layer.trainable = True\n",
    "    else:\n",
    "        layer.trainable = False"
   ]
  },
  {
   "cell_type": "code",
   "execution_count": 17,
   "metadata": {},
   "outputs": [
    {
     "name": "stdout",
     "output_type": "stream",
     "text": [
      "Epoch 1/100\n",
      "100/100 [==============================] - 36s 362ms/step - loss: 0.2835 - acc: 0.8720 - val_loss: 0.2249 - val_acc: 0.9170\n",
      "Epoch 2/100\n",
      "100/100 [==============================] - 35s 350ms/step - loss: 0.2666 - acc: 0.8830 - val_loss: 0.2153 - val_acc: 0.9130\n",
      "Epoch 3/100\n",
      "100/100 [==============================] - 35s 350ms/step - loss: 0.2459 - acc: 0.8950 - val_loss: 0.2217 - val_acc: 0.9180\n",
      "Epoch 4/100\n",
      "100/100 [==============================] - 35s 351ms/step - loss: 0.2150 - acc: 0.9130 - val_loss: 0.2292 - val_acc: 0.9210\n",
      "Epoch 5/100\n",
      "100/100 [==============================] - 35s 351ms/step - loss: 0.2112 - acc: 0.9090 - val_loss: 0.1965 - val_acc: 0.9210\n",
      "Epoch 6/100\n",
      "100/100 [==============================] - 35s 350ms/step - loss: 0.1879 - acc: 0.9180 - val_loss: 0.1973 - val_acc: 0.9300\n",
      "Epoch 7/100\n",
      "100/100 [==============================] - 35s 350ms/step - loss: 0.1736 - acc: 0.9195 - val_loss: 0.2163 - val_acc: 0.9240\n",
      "Epoch 8/100\n",
      "100/100 [==============================] - 35s 350ms/step - loss: 0.1730 - acc: 0.9375 - val_loss: 0.2129 - val_acc: 0.9260\n",
      "Epoch 9/100\n",
      "100/100 [==============================] - 35s 350ms/step - loss: 0.1612 - acc: 0.9395 - val_loss: 0.2355 - val_acc: 0.9210\n",
      "Epoch 10/100\n",
      "100/100 [==============================] - 35s 351ms/step - loss: 0.1568 - acc: 0.9325 - val_loss: 0.1752 - val_acc: 0.9290\n",
      "Epoch 11/100\n",
      "100/100 [==============================] - 35s 350ms/step - loss: 0.1457 - acc: 0.9485 - val_loss: 0.1734 - val_acc: 0.9350\n",
      "Epoch 12/100\n",
      "100/100 [==============================] - 35s 351ms/step - loss: 0.1475 - acc: 0.9435 - val_loss: 0.1756 - val_acc: 0.9310\n",
      "Epoch 13/100\n",
      "100/100 [==============================] - 35s 350ms/step - loss: 0.1368 - acc: 0.9445 - val_loss: 0.1735 - val_acc: 0.9240\n",
      "Epoch 14/100\n",
      "100/100 [==============================] - 35s 350ms/step - loss: 0.1254 - acc: 0.9475 - val_loss: 0.1790 - val_acc: 0.9280\n",
      "Epoch 15/100\n",
      "100/100 [==============================] - 35s 351ms/step - loss: 0.1052 - acc: 0.9555 - val_loss: 0.2026 - val_acc: 0.9260\n",
      "Epoch 16/100\n",
      "100/100 [==============================] - 35s 351ms/step - loss: 0.1157 - acc: 0.9505 - val_loss: 0.2115 - val_acc: 0.9210\n",
      "Epoch 17/100\n",
      "100/100 [==============================] - 35s 351ms/step - loss: 0.1142 - acc: 0.9535 - val_loss: 0.1852 - val_acc: 0.9300\n",
      "Epoch 18/100\n",
      "100/100 [==============================] - 35s 350ms/step - loss: 0.1051 - acc: 0.9605 - val_loss: 0.1905 - val_acc: 0.9260\n",
      "Epoch 19/100\n",
      "100/100 [==============================] - 35s 350ms/step - loss: 0.1009 - acc: 0.9600 - val_loss: 0.2585 - val_acc: 0.9250\n",
      "Epoch 20/100\n",
      "100/100 [==============================] - 35s 350ms/step - loss: 0.0851 - acc: 0.9665 - val_loss: 0.1872 - val_acc: 0.9340\n",
      "Epoch 21/100\n",
      "100/100 [==============================] - 35s 351ms/step - loss: 0.1116 - acc: 0.9575 - val_loss: 0.1982 - val_acc: 0.9330\n",
      "Epoch 22/100\n",
      "100/100 [==============================] - 35s 350ms/step - loss: 0.1051 - acc: 0.9570 - val_loss: 0.1994 - val_acc: 0.9330\n",
      "Epoch 23/100\n",
      "100/100 [==============================] - 35s 351ms/step - loss: 0.0907 - acc: 0.9645 - val_loss: 0.2223 - val_acc: 0.9330\n",
      "Epoch 24/100\n",
      "100/100 [==============================] - 35s 351ms/step - loss: 0.0856 - acc: 0.9680 - val_loss: 0.2283 - val_acc: 0.9320\n",
      "Epoch 25/100\n",
      "100/100 [==============================] - 35s 350ms/step - loss: 0.0792 - acc: 0.9695 - val_loss: 0.1821 - val_acc: 0.9350\n",
      "Epoch 26/100\n",
      "100/100 [==============================] - 35s 351ms/step - loss: 0.0749 - acc: 0.9710 - val_loss: 0.3699 - val_acc: 0.9030\n",
      "Epoch 27/100\n",
      "100/100 [==============================] - 35s 351ms/step - loss: 0.0839 - acc: 0.9690 - val_loss: 0.2274 - val_acc: 0.9310\n",
      "Epoch 28/100\n",
      "100/100 [==============================] - 35s 350ms/step - loss: 0.0748 - acc: 0.9715 - val_loss: 0.1785 - val_acc: 0.9400\n",
      "Epoch 29/100\n",
      "100/100 [==============================] - 35s 350ms/step - loss: 0.0750 - acc: 0.9690 - val_loss: 0.1904 - val_acc: 0.9390\n",
      "Epoch 30/100\n",
      "100/100 [==============================] - 35s 351ms/step - loss: 0.0770 - acc: 0.9725 - val_loss: 0.2307 - val_acc: 0.9290\n",
      "Epoch 31/100\n",
      "100/100 [==============================] - 35s 350ms/step - loss: 0.0568 - acc: 0.9800 - val_loss: 0.2098 - val_acc: 0.9350\n",
      "Epoch 32/100\n",
      "100/100 [==============================] - 35s 351ms/step - loss: 0.0667 - acc: 0.9745 - val_loss: 0.1991 - val_acc: 0.9340\n",
      "Epoch 33/100\n",
      "100/100 [==============================] - 35s 351ms/step - loss: 0.0632 - acc: 0.9725 - val_loss: 0.2083 - val_acc: 0.9400\n",
      "Epoch 34/100\n",
      "100/100 [==============================] - 35s 350ms/step - loss: 0.0624 - acc: 0.9750 - val_loss: 0.2020 - val_acc: 0.9380\n",
      "Epoch 35/100\n",
      "100/100 [==============================] - 35s 350ms/step - loss: 0.0542 - acc: 0.9810 - val_loss: 0.2473 - val_acc: 0.9300\n",
      "Epoch 36/100\n",
      "100/100 [==============================] - 35s 350ms/step - loss: 0.0632 - acc: 0.9745 - val_loss: 0.2132 - val_acc: 0.9300\n",
      "Epoch 37/100\n",
      "100/100 [==============================] - 35s 350ms/step - loss: 0.0576 - acc: 0.9800 - val_loss: 0.2323 - val_acc: 0.9310\n",
      "Epoch 38/100\n",
      "100/100 [==============================] - 35s 350ms/step - loss: 0.0595 - acc: 0.9770 - val_loss: 0.2348 - val_acc: 0.9280\n",
      "Epoch 39/100\n",
      "100/100 [==============================] - 36s 364ms/step - loss: 0.0394 - acc: 0.9850 - val_loss: 0.2568 - val_acc: 0.9320\n",
      "Epoch 40/100\n",
      "100/100 [==============================] - 35s 351ms/step - loss: 0.0587 - acc: 0.9800 - val_loss: 0.2088 - val_acc: 0.9410\n",
      "Epoch 41/100\n",
      "100/100 [==============================] - 35s 351ms/step - loss: 0.0555 - acc: 0.9775 - val_loss: 0.2445 - val_acc: 0.9250\n",
      "Epoch 42/100\n",
      "100/100 [==============================] - 35s 350ms/step - loss: 0.0429 - acc: 0.9835 - val_loss: 0.2339 - val_acc: 0.9360\n",
      "Epoch 43/100\n",
      "100/100 [==============================] - 35s 350ms/step - loss: 0.0440 - acc: 0.9855 - val_loss: 0.2192 - val_acc: 0.9390\n",
      "Epoch 44/100\n",
      "100/100 [==============================] - 35s 351ms/step - loss: 0.0504 - acc: 0.9845 - val_loss: 0.2536 - val_acc: 0.9300\n",
      "Epoch 45/100\n",
      "100/100 [==============================] - 35s 351ms/step - loss: 0.0336 - acc: 0.9850 - val_loss: 0.2351 - val_acc: 0.9320\n",
      "Epoch 46/100\n",
      "100/100 [==============================] - 35s 350ms/step - loss: 0.0478 - acc: 0.9835 - val_loss: 0.2139 - val_acc: 0.9380\n",
      "Epoch 47/100\n",
      "100/100 [==============================] - 35s 351ms/step - loss: 0.0463 - acc: 0.9815 - val_loss: 0.2166 - val_acc: 0.9380\n",
      "Epoch 48/100\n",
      "100/100 [==============================] - 35s 351ms/step - loss: 0.0340 - acc: 0.9895 - val_loss: 0.2347 - val_acc: 0.9360\n",
      "Epoch 49/100\n",
      "100/100 [==============================] - 35s 350ms/step - loss: 0.0377 - acc: 0.9845 - val_loss: 0.2324 - val_acc: 0.9420\n",
      "Epoch 50/100\n",
      "100/100 [==============================] - 35s 351ms/step - loss: 0.0406 - acc: 0.9885 - val_loss: 0.2289 - val_acc: 0.9370\n",
      "Epoch 51/100\n",
      "100/100 [==============================] - 35s 351ms/step - loss: 0.0391 - acc: 0.9865 - val_loss: 0.2537 - val_acc: 0.9350\n",
      "Epoch 52/100\n",
      "100/100 [==============================] - 35s 350ms/step - loss: 0.0490 - acc: 0.9835 - val_loss: 0.3572 - val_acc: 0.9100\n",
      "Epoch 53/100\n",
      "100/100 [==============================] - 35s 351ms/step - loss: 0.0380 - acc: 0.9860 - val_loss: 0.2121 - val_acc: 0.9360\n",
      "Epoch 54/100\n",
      "100/100 [==============================] - 35s 351ms/step - loss: 0.0367 - acc: 0.9850 - val_loss: 0.2277 - val_acc: 0.9360\n",
      "Epoch 55/100\n",
      "100/100 [==============================] - 35s 350ms/step - loss: 0.0369 - acc: 0.9850 - val_loss: 0.2197 - val_acc: 0.9380\n",
      "Epoch 56/100\n",
      "100/100 [==============================] - 35s 350ms/step - loss: 0.0328 - acc: 0.9875 - val_loss: 0.2064 - val_acc: 0.9470\n",
      "Epoch 57/100\n",
      "100/100 [==============================] - 35s 350ms/step - loss: 0.0305 - acc: 0.9855 - val_loss: 0.2429 - val_acc: 0.9440\n",
      "Epoch 58/100\n",
      "100/100 [==============================] - 35s 350ms/step - loss: 0.0312 - acc: 0.9875 - val_loss: 0.2660 - val_acc: 0.9350\n",
      "Epoch 59/100\n",
      "100/100 [==============================] - 35s 351ms/step - loss: 0.0340 - acc: 0.9870 - val_loss: 0.2285 - val_acc: 0.9440\n",
      "Epoch 60/100\n",
      "100/100 [==============================] - 35s 351ms/step - loss: 0.0288 - acc: 0.9910 - val_loss: 0.3200 - val_acc: 0.9280\n"
     ]
    },
    {
     "name": "stdout",
     "output_type": "stream",
     "text": [
      "Epoch 61/100\n",
      "100/100 [==============================] - 35s 351ms/step - loss: 0.0256 - acc: 0.9910 - val_loss: 0.3996 - val_acc: 0.9150\n",
      "Epoch 62/100\n",
      "100/100 [==============================] - 35s 351ms/step - loss: 0.0345 - acc: 0.9875 - val_loss: 0.2280 - val_acc: 0.9460\n",
      "Epoch 63/100\n",
      "100/100 [==============================] - 35s 351ms/step - loss: 0.0332 - acc: 0.9870 - val_loss: 0.3180 - val_acc: 0.9210\n",
      "Epoch 64/100\n",
      "100/100 [==============================] - 35s 351ms/step - loss: 0.0272 - acc: 0.9890 - val_loss: 0.2473 - val_acc: 0.9410\n",
      "Epoch 65/100\n",
      "100/100 [==============================] - 35s 351ms/step - loss: 0.0317 - acc: 0.9880 - val_loss: 0.2288 - val_acc: 0.9440\n",
      "Epoch 66/100\n",
      "100/100 [==============================] - 35s 351ms/step - loss: 0.0287 - acc: 0.9880 - val_loss: 0.2259 - val_acc: 0.9400\n",
      "Epoch 67/100\n",
      "100/100 [==============================] - 35s 351ms/step - loss: 0.0283 - acc: 0.9900 - val_loss: 0.2550 - val_acc: 0.9370\n",
      "Epoch 68/100\n",
      "100/100 [==============================] - 35s 351ms/step - loss: 0.0275 - acc: 0.9890 - val_loss: 0.2639 - val_acc: 0.9380\n",
      "Epoch 69/100\n",
      "100/100 [==============================] - 35s 351ms/step - loss: 0.0242 - acc: 0.9925 - val_loss: 0.2501 - val_acc: 0.9400\n",
      "Epoch 70/100\n",
      "100/100 [==============================] - 35s 350ms/step - loss: 0.0245 - acc: 0.9905 - val_loss: 0.2238 - val_acc: 0.9420\n",
      "Epoch 71/100\n",
      "100/100 [==============================] - 35s 351ms/step - loss: 0.0348 - acc: 0.9885 - val_loss: 0.2651 - val_acc: 0.9290\n",
      "Epoch 72/100\n",
      "100/100 [==============================] - 35s 351ms/step - loss: 0.0293 - acc: 0.9890 - val_loss: 0.2277 - val_acc: 0.9440\n",
      "Epoch 73/100\n",
      "100/100 [==============================] - 35s 351ms/step - loss: 0.0310 - acc: 0.9895 - val_loss: 0.2230 - val_acc: 0.9400\n",
      "Epoch 74/100\n",
      "100/100 [==============================] - 35s 350ms/step - loss: 0.0188 - acc: 0.9950 - val_loss: 0.3838 - val_acc: 0.9190\n",
      "Epoch 75/100\n",
      "100/100 [==============================] - 35s 350ms/step - loss: 0.0234 - acc: 0.9930 - val_loss: 0.2376 - val_acc: 0.9450\n",
      "Epoch 76/100\n",
      "100/100 [==============================] - 35s 351ms/step - loss: 0.0198 - acc: 0.9910 - val_loss: 0.3539 - val_acc: 0.9270\n",
      "Epoch 77/100\n",
      "100/100 [==============================] - 35s 351ms/step - loss: 0.0296 - acc: 0.9905 - val_loss: 0.2732 - val_acc: 0.9390\n",
      "Epoch 78/100\n",
      "100/100 [==============================] - 35s 350ms/step - loss: 0.0291 - acc: 0.9915 - val_loss: 0.2761 - val_acc: 0.9450\n",
      "Epoch 79/100\n",
      "100/100 [==============================] - 35s 350ms/step - loss: 0.0230 - acc: 0.9920 - val_loss: 0.2349 - val_acc: 0.9450\n",
      "Epoch 80/100\n",
      "100/100 [==============================] - 35s 350ms/step - loss: 0.0208 - acc: 0.9935 - val_loss: 0.2409 - val_acc: 0.9480\n",
      "Epoch 81/100\n",
      "100/100 [==============================] - 35s 351ms/step - loss: 0.0311 - acc: 0.9905 - val_loss: 0.2209 - val_acc: 0.9440\n",
      "Epoch 82/100\n",
      "100/100 [==============================] - 35s 350ms/step - loss: 0.0246 - acc: 0.9915 - val_loss: 0.2370 - val_acc: 0.9420\n",
      "Epoch 83/100\n",
      "100/100 [==============================] - 35s 351ms/step - loss: 0.0308 - acc: 0.9895 - val_loss: 0.2591 - val_acc: 0.9450\n",
      "Epoch 84/100\n",
      "100/100 [==============================] - 35s 350ms/step - loss: 0.0171 - acc: 0.9940 - val_loss: 0.2477 - val_acc: 0.9410\n",
      "Epoch 85/100\n",
      "100/100 [==============================] - 35s 351ms/step - loss: 0.0201 - acc: 0.9930 - val_loss: 0.2395 - val_acc: 0.9410\n",
      "Epoch 86/100\n",
      "100/100 [==============================] - 35s 350ms/step - loss: 0.0203 - acc: 0.9920 - val_loss: 0.2539 - val_acc: 0.9440\n",
      "Epoch 87/100\n",
      "100/100 [==============================] - 35s 351ms/step - loss: 0.0211 - acc: 0.9930 - val_loss: 0.3097 - val_acc: 0.9350\n",
      "Epoch 88/100\n",
      "100/100 [==============================] - 35s 351ms/step - loss: 0.0330 - acc: 0.9880 - val_loss: 0.3135 - val_acc: 0.9290\n",
      "Epoch 89/100\n",
      "100/100 [==============================] - 35s 350ms/step - loss: 0.0223 - acc: 0.9945 - val_loss: 0.2648 - val_acc: 0.9450\n",
      "Epoch 90/100\n",
      "100/100 [==============================] - 35s 351ms/step - loss: 0.0259 - acc: 0.9910 - val_loss: 0.2842 - val_acc: 0.9340\n",
      "Epoch 91/100\n",
      "100/100 [==============================] - 35s 350ms/step - loss: 0.0159 - acc: 0.9950 - val_loss: 0.2521 - val_acc: 0.9470\n",
      "Epoch 92/100\n",
      "100/100 [==============================] - 35s 351ms/step - loss: 0.0242 - acc: 0.9925 - val_loss: 0.3212 - val_acc: 0.9250\n",
      "Epoch 93/100\n",
      "100/100 [==============================] - 35s 351ms/step - loss: 0.0139 - acc: 0.9955 - val_loss: 0.2857 - val_acc: 0.9400\n",
      "Epoch 94/100\n",
      "100/100 [==============================] - 35s 350ms/step - loss: 0.0205 - acc: 0.9945 - val_loss: 0.2834 - val_acc: 0.9420\n",
      "Epoch 95/100\n",
      "100/100 [==============================] - 35s 350ms/step - loss: 0.0182 - acc: 0.9930 - val_loss: 0.3423 - val_acc: 0.9270\n",
      "Epoch 96/100\n",
      "100/100 [==============================] - 35s 351ms/step - loss: 0.0184 - acc: 0.9930 - val_loss: 0.2738 - val_acc: 0.9440\n",
      "Epoch 97/100\n",
      "100/100 [==============================] - 35s 351ms/step - loss: 0.0215 - acc: 0.9905 - val_loss: 0.3187 - val_acc: 0.9370\n",
      "Epoch 98/100\n",
      "100/100 [==============================] - 35s 350ms/step - loss: 0.0152 - acc: 0.9950 - val_loss: 0.2704 - val_acc: 0.9410\n",
      "Epoch 99/100\n",
      "100/100 [==============================] - 35s 351ms/step - loss: 0.0127 - acc: 0.9955 - val_loss: 0.2676 - val_acc: 0.9440\n",
      "Epoch 100/100\n",
      "100/100 [==============================] - 35s 351ms/step - loss: 0.0174 - acc: 0.9910 - val_loss: 0.2366 - val_acc: 0.9420\n"
     ]
    }
   ],
   "source": [
    "model_old = keras.models.clone_model(model)\n",
    "model.compile(optimizers.RMSprop(lr=1e-5), loss = 'binary_crossentropy', metrics=['acc'] )\n",
    "history = model.fit_generator(train_generator,\n",
    "                              steps_per_epoch=100,\n",
    "                              epochs=100,\n",
    "                              validation_data=validation_generator,\n",
    "                              validation_steps=50)"
   ]
  },
  {
   "cell_type": "code",
   "execution_count": 18,
   "metadata": {},
   "outputs": [
    {
     "data": {
      "image/png": "[encoded data removed]",
      "text/plain": [
       "<Figure size 432x288 with 1 Axes>"
      ]
     },
     "metadata": {},
     "output_type": "display_data"
    },
    {
     "data": {
      "image/png": "[encoded data removed]",
      "text/plain": [
       "<Figure size 432x288 with 1 Axes>"
      ]
     },
     "metadata": {},
     "output_type": "display_data"
    }
   ],
   "source": [
    "plot_history(history)"
   ]
  },
  {
   "cell_type": "markdown",
   "metadata": {},
   "source": [
    "Use exponential moving average to smooth the plotted curves"
   ]
  },
  {
   "cell_type": "code",
   "execution_count": 19,
   "metadata": {},
   "outputs": [
    {
     "data": {
      "image/png": "[encoded data removed]",
      "text/plain": [
       "<Figure size 432x288 with 1 Axes>"
      ]
     },
     "metadata": {},
     "output_type": "display_data"
    },
    {
     "data": {
      "image/png": "[encoded data removed]",
      "text/plain": [
       "<Figure size 432x288 with 1 Axes>"
      ]
     },
     "metadata": {},
     "output_type": "display_data"
    }
   ],
   "source": [
    "def smooth_curve(points, factor=0.8):\n",
    "    smoothed_points = []\n",
    "    for point in points:\n",
    "        if smoothed_points:\n",
    "            previous = smoothed_points[-1]\n",
    "            smoothed_points.append(%precisionvious * factor + point * (1 - factor))\n",
    "        else:\n",
    "            smoothed_points.append(point)\n",
    "    return smoothed_points\n",
    "\n",
    "def plot_history_smooth(history):\n",
    "    def plot_history_record(history, record, *args, **kwargs):\n",
    "        values = smooth_curve(history.history[record])\n",
    "        epochs = range(1, len(values) + 1)\n",
    "        plt.plot(epochs, values, *args, **kwargs)\n",
    "\n",
    "    plot_history_record(history, 'loss', 'bo', label='Training loss')\n",
    "    plot_history_record(history, 'val_loss', 'b', label='Validation loss')\n",
    "    plt.xlabel('Epochs')\n",
    "    plt.ylabel('loss')\n",
    "    plt.title('Training and validation loss')\n",
    "    plt.legend()\n",
    "    \n",
    "    plt.figure()\n",
    "    plot_history_record(history, 'acc', 'bo', label='Training accuracy')\n",
    "    plot_history_record(history, 'val_acc', 'b', label='Validation accuracy')\n",
    "    plt.xlabel('Epochs')\n",
    "    plt.ylabel('Accuracy')\n",
    "    plt.title('Training and validation accuracy')\n",
    "    plt.legend()\n",
    "plot_history_smooth(history)"
   ]
  },
  {
   "cell_type": "code",
   "execution_count": 21,
   "metadata": {},
   "outputs": [
    {
     "name": "stdout",
     "output_type": "stream",
     "text": [
      "Found 1000 images belonging to 2 classes.\n",
      "Test accuracy: 0.9359999930858612%\n"
     ]
    }
   ],
   "source": [
    "# Test on test dataset.\n",
    "test_generator = test_datagen.flow_from_directory(test_dir,\n",
    "                                                  target_size=(150, 150), \n",
    "                                                  batch_size=20, \n",
    "                                                  class_mode='binary')\n",
    "test_loss, test_acc = model.evaluate_generator(test_generator,steps=50)\n",
    "print(f\"Test accuracy: {test_acc}%\")"
   ]
  },
  {
   "cell_type": "code",
   "execution_count": 22,
   "metadata": {},
   "outputs": [],
   "source": [
    "model.save('cats_and_dogs_small_VGG16.h5')"
   ]
  }
 ],
 "metadata": {
  "kernelspec": {
   "display_name": "Python 3",
   "language": "python",
   "name": "python3"
  },
  "language_info": {
   "codemirror_mode": {
    "name": "ipython",
    "version": 3
   },
   "file_extension": ".py",
   "mimetype": "text/x-python",
   "name": "python",
   "nbconvert_exporter": "python",
   "pygments_lexer": "ipython3",
   "version": "3.6.5"
  }
 },
 "nbformat": 4,
 "nbformat_minor": 2
}
